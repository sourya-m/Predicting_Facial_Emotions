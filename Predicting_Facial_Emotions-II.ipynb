{
  "cells": [
    {
      "cell_type": "markdown",
      "metadata": {
        "id": "1nhSeyqfE1Dg"
      },
      "source": [
        "# Importing Necessary packages"
      ]
    },
    {
      "cell_type": "code",
      "execution_count": null,
      "metadata": {
        "id": "MCW9Inh4Eq_R"
      },
      "outputs": [],
      "source": [
        "import pandas as pd\n",
        "import numpy as np\n",
        "import os\n",
        "import PIL\n",
        "import seaborn as sns\n",
        "import pickle\n",
        "from PIL import *\n",
        "import cv2\n",
        "import tensorflow as tf\n",
        "from tensorflow import keras\n",
        "from tensorflow.keras.applications import DenseNet121\n",
        "from tensorflow.keras.models import Model, load_model\n",
        "from tensorflow.keras.initializers import glorot_uniform\n",
        "from tensorflow.keras.utils import plot_model\n",
        "from tensorflow.keras.callbacks import ReduceLROnPlateau, EarlyStopping, ModelCheckpoint, LearningRateScheduler\n",
        "from IPython.display import display\n",
        "from tensorflow.python.keras import *\n",
        "from tensorflow.keras.preprocessing.image import ImageDataGenerator\n",
        "from tensorflow.keras import layers, optimizers\n",
        "from tensorflow.keras.applications.resnet50 import ResNet50\n",
        "from tensorflow.keras.layers import *\n",
        "from tensorflow.keras import backend as K\n",
        "from keras import optimizers\n",
        "import matplotlib.pyplot as plt\n",
        "from sklearn.model_selection import train_test_split\n",
        "from google.colab.patches import cv2_imshow"
      ]
    },
    {
      "cell_type": "code",
      "execution_count": null,
      "metadata": {
        "colab": {
          "base_uri": "https://localhost:8080/"
        },
        "id": "mRpCfTUFLLYb",
        "outputId": "b1b767f0-9161-4e5b-8835-12d3879b63f2"
      },
      "outputs": [
        {
          "name": "stdout",
          "output_type": "stream",
          "text": [
            "Mounted at /content/drive\n"
          ]
        }
      ],
      "source": [
        "# Mount the drive\n",
        "from google.colab import drive\n",
        "drive.mount('/content/drive')"
      ]
    },
    {
      "cell_type": "code",
      "execution_count": null,
      "metadata": {
        "colab": {
          "base_uri": "https://localhost:8080/"
        },
        "id": "EzcCwEKQLIhM",
        "outputId": "049ca6fe-e1d7-483b-a56c-853d74b8b76a"
      },
      "outputs": [
        {
          "name": "stdout",
          "output_type": "stream",
          "text": [
            "/content/drive/My Drive/Predicting_Facial_Emotions/Emotion_AI\n"
          ]
        }
      ],
      "source": [
        "%cd /content/drive/My Drive/Predicting_Facial_Emotions/Emotion_AI"
      ]
    },
    {
      "cell_type": "code",
      "execution_count": null,
      "metadata": {
        "id": "XwmcwUEvKYMD"
      },
      "outputs": [],
      "source": [
        "#load facial key points from the data\n",
        "keyfacial_df= pd.read_csv('/content/drive/My Drive/Predicting_Facial_Emotions/Emotion_AI/data.csv')"
      ]
    },
    {
      "cell_type": "code",
      "execution_count": null,
      "metadata": {
        "colab": {
          "base_uri": "https://localhost:8080/",
          "height": 1000
        },
        "id": "g1gmiKCVFLJU",
        "outputId": "e24bc594-65f8-4096-f109-368091bcc596"
      },
      "outputs": [
        {
          "data": {
            "text/html": [
              "\n",
              "\n",
              "  <div id=\"df-24835207-2537-4fd2-bbc5-f3fd0eca6506\">\n",
              "    <div class=\"colab-df-container\">\n",
              "      <div>\n",
              "<style scoped>\n",
              "    .dataframe tbody tr th:only-of-type {\n",
              "        vertical-align: middle;\n",
              "    }\n",
              "\n",
              "    .dataframe tbody tr th {\n",
              "        vertical-align: top;\n",
              "    }\n",
              "\n",
              "    .dataframe thead th {\n",
              "        text-align: right;\n",
              "    }\n",
              "</style>\n",
              "<table border=\"1\" class=\"dataframe\">\n",
              "  <thead>\n",
              "    <tr style=\"text-align: right;\">\n",
              "      <th></th>\n",
              "      <th>left_eye_center_x</th>\n",
              "      <th>left_eye_center_y</th>\n",
              "      <th>right_eye_center_x</th>\n",
              "      <th>right_eye_center_y</th>\n",
              "      <th>left_eye_inner_corner_x</th>\n",
              "      <th>left_eye_inner_corner_y</th>\n",
              "      <th>left_eye_outer_corner_x</th>\n",
              "      <th>left_eye_outer_corner_y</th>\n",
              "      <th>right_eye_inner_corner_x</th>\n",
              "      <th>right_eye_inner_corner_y</th>\n",
              "      <th>...</th>\n",
              "      <th>nose_tip_y</th>\n",
              "      <th>mouth_left_corner_x</th>\n",
              "      <th>mouth_left_corner_y</th>\n",
              "      <th>mouth_right_corner_x</th>\n",
              "      <th>mouth_right_corner_y</th>\n",
              "      <th>mouth_center_top_lip_x</th>\n",
              "      <th>mouth_center_top_lip_y</th>\n",
              "      <th>mouth_center_bottom_lip_x</th>\n",
              "      <th>mouth_center_bottom_lip_y</th>\n",
              "      <th>Image</th>\n",
              "    </tr>\n",
              "  </thead>\n",
              "  <tbody>\n",
              "    <tr>\n",
              "      <th>0</th>\n",
              "      <td>66.033564</td>\n",
              "      <td>39.002274</td>\n",
              "      <td>30.227008</td>\n",
              "      <td>36.421678</td>\n",
              "      <td>59.582075</td>\n",
              "      <td>39.647423</td>\n",
              "      <td>73.130346</td>\n",
              "      <td>39.969997</td>\n",
              "      <td>36.356571</td>\n",
              "      <td>37.389402</td>\n",
              "      <td>...</td>\n",
              "      <td>57.066803</td>\n",
              "      <td>61.195308</td>\n",
              "      <td>79.970165</td>\n",
              "      <td>28.614496</td>\n",
              "      <td>77.388992</td>\n",
              "      <td>43.312602</td>\n",
              "      <td>72.935459</td>\n",
              "      <td>43.130707</td>\n",
              "      <td>84.485774</td>\n",
              "      <td>238 236 237 238 240 240 239 241 241 243 240 23...</td>\n",
              "    </tr>\n",
              "    <tr>\n",
              "      <th>1</th>\n",
              "      <td>64.332936</td>\n",
              "      <td>34.970077</td>\n",
              "      <td>29.949277</td>\n",
              "      <td>33.448715</td>\n",
              "      <td>58.856170</td>\n",
              "      <td>35.274349</td>\n",
              "      <td>70.722723</td>\n",
              "      <td>36.187166</td>\n",
              "      <td>36.034723</td>\n",
              "      <td>34.361532</td>\n",
              "      <td>...</td>\n",
              "      <td>55.660936</td>\n",
              "      <td>56.421447</td>\n",
              "      <td>76.352000</td>\n",
              "      <td>35.122383</td>\n",
              "      <td>76.047660</td>\n",
              "      <td>46.684596</td>\n",
              "      <td>70.266553</td>\n",
              "      <td>45.467915</td>\n",
              "      <td>85.480170</td>\n",
              "      <td>219 215 204 196 204 211 212 200 180 168 178 19...</td>\n",
              "    </tr>\n",
              "    <tr>\n",
              "      <th>2</th>\n",
              "      <td>65.057053</td>\n",
              "      <td>34.909642</td>\n",
              "      <td>30.903789</td>\n",
              "      <td>34.909642</td>\n",
              "      <td>59.412000</td>\n",
              "      <td>36.320968</td>\n",
              "      <td>70.984421</td>\n",
              "      <td>36.320968</td>\n",
              "      <td>37.678105</td>\n",
              "      <td>36.320968</td>\n",
              "      <td>...</td>\n",
              "      <td>53.538947</td>\n",
              "      <td>60.822947</td>\n",
              "      <td>73.014316</td>\n",
              "      <td>33.726316</td>\n",
              "      <td>72.732000</td>\n",
              "      <td>47.274947</td>\n",
              "      <td>70.191789</td>\n",
              "      <td>47.274947</td>\n",
              "      <td>78.659368</td>\n",
              "      <td>144 142 159 180 188 188 184 180 167 132 84 59 ...</td>\n",
              "    </tr>\n",
              "    <tr>\n",
              "      <th>3</th>\n",
              "      <td>65.225739</td>\n",
              "      <td>37.261774</td>\n",
              "      <td>32.023096</td>\n",
              "      <td>37.261774</td>\n",
              "      <td>60.003339</td>\n",
              "      <td>39.127179</td>\n",
              "      <td>72.314713</td>\n",
              "      <td>38.380967</td>\n",
              "      <td>37.618643</td>\n",
              "      <td>38.754115</td>\n",
              "      <td>...</td>\n",
              "      <td>54.166539</td>\n",
              "      <td>65.598887</td>\n",
              "      <td>72.703722</td>\n",
              "      <td>37.245496</td>\n",
              "      <td>74.195478</td>\n",
              "      <td>50.303165</td>\n",
              "      <td>70.091687</td>\n",
              "      <td>51.561183</td>\n",
              "      <td>78.268383</td>\n",
              "      <td>193 192 193 194 194 194 193 192 168 111 50 12 ...</td>\n",
              "    </tr>\n",
              "    <tr>\n",
              "      <th>4</th>\n",
              "      <td>66.725301</td>\n",
              "      <td>39.621261</td>\n",
              "      <td>32.244810</td>\n",
              "      <td>38.042032</td>\n",
              "      <td>58.565890</td>\n",
              "      <td>39.621261</td>\n",
              "      <td>72.515926</td>\n",
              "      <td>39.884466</td>\n",
              "      <td>36.982380</td>\n",
              "      <td>39.094852</td>\n",
              "      <td>...</td>\n",
              "      <td>64.889521</td>\n",
              "      <td>60.671411</td>\n",
              "      <td>77.523239</td>\n",
              "      <td>31.191755</td>\n",
              "      <td>76.997301</td>\n",
              "      <td>44.962748</td>\n",
              "      <td>73.707387</td>\n",
              "      <td>44.227141</td>\n",
              "      <td>86.871166</td>\n",
              "      <td>147 148 160 196 215 214 216 217 219 220 206 18...</td>\n",
              "    </tr>\n",
              "    <tr>\n",
              "      <th>...</th>\n",
              "      <td>...</td>\n",
              "      <td>...</td>\n",
              "      <td>...</td>\n",
              "      <td>...</td>\n",
              "      <td>...</td>\n",
              "      <td>...</td>\n",
              "      <td>...</td>\n",
              "      <td>...</td>\n",
              "      <td>...</td>\n",
              "      <td>...</td>\n",
              "      <td>...</td>\n",
              "      <td>...</td>\n",
              "      <td>...</td>\n",
              "      <td>...</td>\n",
              "      <td>...</td>\n",
              "      <td>...</td>\n",
              "      <td>...</td>\n",
              "      <td>...</td>\n",
              "      <td>...</td>\n",
              "      <td>...</td>\n",
              "      <td>...</td>\n",
              "    </tr>\n",
              "    <tr>\n",
              "      <th>2135</th>\n",
              "      <td>67.180378</td>\n",
              "      <td>35.816373</td>\n",
              "      <td>33.239956</td>\n",
              "      <td>34.921932</td>\n",
              "      <td>59.347973</td>\n",
              "      <td>37.000904</td>\n",
              "      <td>72.667896</td>\n",
              "      <td>37.097600</td>\n",
              "      <td>39.404349</td>\n",
              "      <td>36.589944</td>\n",
              "      <td>...</td>\n",
              "      <td>60.065396</td>\n",
              "      <td>64.397610</td>\n",
              "      <td>73.248393</td>\n",
              "      <td>35.446431</td>\n",
              "      <td>74.014748</td>\n",
              "      <td>48.708626</td>\n",
              "      <td>76.760852</td>\n",
              "      <td>48.559612</td>\n",
              "      <td>77.335618</td>\n",
              "      <td>191 191 191 190 189 185 184 120 54 34 19 24 31...</td>\n",
              "    </tr>\n",
              "    <tr>\n",
              "      <th>2136</th>\n",
              "      <td>65.724490</td>\n",
              "      <td>36.301020</td>\n",
              "      <td>25.377551</td>\n",
              "      <td>37.311224</td>\n",
              "      <td>58.530612</td>\n",
              "      <td>37.739796</td>\n",
              "      <td>74.448980</td>\n",
              "      <td>37.525510</td>\n",
              "      <td>33.551020</td>\n",
              "      <td>38.107143</td>\n",
              "      <td>...</td>\n",
              "      <td>62.472789</td>\n",
              "      <td>66.928121</td>\n",
              "      <td>79.229046</td>\n",
              "      <td>28.015377</td>\n",
              "      <td>81.151722</td>\n",
              "      <td>48.771976</td>\n",
              "      <td>81.816774</td>\n",
              "      <td>49.287271</td>\n",
              "      <td>82.871156</td>\n",
              "      <td>19 19 19 18 13 7 3 4 3 1 3 9 11 12 12 13 10 9 ...</td>\n",
              "    </tr>\n",
              "    <tr>\n",
              "      <th>2137</th>\n",
              "      <td>68.430866</td>\n",
              "      <td>38.651975</td>\n",
              "      <td>28.895857</td>\n",
              "      <td>37.617027</td>\n",
              "      <td>61.659350</td>\n",
              "      <td>40.100902</td>\n",
              "      <td>75.586792</td>\n",
              "      <td>40.219182</td>\n",
              "      <td>37.665118</td>\n",
              "      <td>39.087245</td>\n",
              "      <td>...</td>\n",
              "      <td>63.289576</td>\n",
              "      <td>68.864397</td>\n",
              "      <td>77.495823</td>\n",
              "      <td>22.013981</td>\n",
              "      <td>77.368995</td>\n",
              "      <td>49.180628</td>\n",
              "      <td>79.043130</td>\n",
              "      <td>47.176739</td>\n",
              "      <td>89.544522</td>\n",
              "      <td>31 40 47 31 54 58 63 100 86 80 82 75 79 86 90 ...</td>\n",
              "    </tr>\n",
              "    <tr>\n",
              "      <th>2138</th>\n",
              "      <td>64.152180</td>\n",
              "      <td>30.691592</td>\n",
              "      <td>27.000898</td>\n",
              "      <td>40.868082</td>\n",
              "      <td>56.505624</td>\n",
              "      <td>34.126963</td>\n",
              "      <td>73.436776</td>\n",
              "      <td>28.556335</td>\n",
              "      <td>34.746122</td>\n",
              "      <td>40.506939</td>\n",
              "      <td>...</td>\n",
              "      <td>59.735799</td>\n",
              "      <td>73.730743</td>\n",
              "      <td>70.273886</td>\n",
              "      <td>38.777143</td>\n",
              "      <td>80.684286</td>\n",
              "      <td>58.042857</td>\n",
              "      <td>79.301429</td>\n",
              "      <td>58.611086</td>\n",
              "      <td>80.355543</td>\n",
              "      <td>7 1 5 1 3 20 12 0 5 8 6 18 13 9 8 12 12 11 4 8...</td>\n",
              "    </tr>\n",
              "    <tr>\n",
              "      <th>2139</th>\n",
              "      <td>66.683755</td>\n",
              "      <td>34.483429</td>\n",
              "      <td>30.784490</td>\n",
              "      <td>38.578939</td>\n",
              "      <td>59.255347</td>\n",
              "      <td>36.065143</td>\n",
              "      <td>73.942694</td>\n",
              "      <td>34.624653</td>\n",
              "      <td>37.478531</td>\n",
              "      <td>39.398041</td>\n",
              "      <td>...</td>\n",
              "      <td>59.269388</td>\n",
              "      <td>72.600433</td>\n",
              "      <td>71.862041</td>\n",
              "      <td>34.232759</td>\n",
              "      <td>77.339429</td>\n",
              "      <td>51.599453</td>\n",
              "      <td>75.963592</td>\n",
              "      <td>52.923371</td>\n",
              "      <td>82.661062</td>\n",
              "      <td>68 19 19 23 19 26 23 16 8 15 9 9 17 16 15 27 2...</td>\n",
              "    </tr>\n",
              "  </tbody>\n",
              "</table>\n",
              "<p>2140 rows × 31 columns</p>\n",
              "</div>\n",
              "      <button class=\"colab-df-convert\" onclick=\"convertToInteractive('df-24835207-2537-4fd2-bbc5-f3fd0eca6506')\"\n",
              "              title=\"Convert this dataframe to an interactive table.\"\n",
              "              style=\"display:none;\">\n",
              "\n",
              "  <svg xmlns=\"http://www.w3.org/2000/svg\" height=\"24px\"viewBox=\"0 0 24 24\"\n",
              "       width=\"24px\">\n",
              "    <path d=\"M0 0h24v24H0V0z\" fill=\"none\"/>\n",
              "    <path d=\"M18.56 5.44l.94 2.06.94-2.06 2.06-.94-2.06-.94-.94-2.06-.94 2.06-2.06.94zm-11 1L8.5 8.5l.94-2.06 2.06-.94-2.06-.94L8.5 2.5l-.94 2.06-2.06.94zm10 10l.94 2.06.94-2.06 2.06-.94-2.06-.94-.94-2.06-.94 2.06-2.06.94z\"/><path d=\"M17.41 7.96l-1.37-1.37c-.4-.4-.92-.59-1.43-.59-.52 0-1.04.2-1.43.59L10.3 9.45l-7.72 7.72c-.78.78-.78 2.05 0 2.83L4 21.41c.39.39.9.59 1.41.59.51 0 1.02-.2 1.41-.59l7.78-7.78 2.81-2.81c.8-.78.8-2.07 0-2.86zM5.41 20L4 18.59l7.72-7.72 1.47 1.35L5.41 20z\"/>\n",
              "  </svg>\n",
              "      </button>\n",
              "\n",
              "\n",
              "\n",
              "    <div id=\"df-7591efbf-d90d-4f28-96eb-3927655b046f\">\n",
              "      <button class=\"colab-df-quickchart\" onclick=\"quickchart('df-7591efbf-d90d-4f28-96eb-3927655b046f')\"\n",
              "              title=\"Suggest charts.\"\n",
              "              style=\"display:none;\">\n",
              "\n",
              "<svg xmlns=\"http://www.w3.org/2000/svg\" height=\"24px\"viewBox=\"0 0 24 24\"\n",
              "     width=\"24px\">\n",
              "    <g>\n",
              "        <path d=\"M19 3H5c-1.1 0-2 .9-2 2v14c0 1.1.9 2 2 2h14c1.1 0 2-.9 2-2V5c0-1.1-.9-2-2-2zM9 17H7v-7h2v7zm4 0h-2V7h2v10zm4 0h-2v-4h2v4z\"/>\n",
              "    </g>\n",
              "</svg>\n",
              "      </button>\n",
              "    </div>\n",
              "\n",
              "<style>\n",
              "  .colab-df-quickchart {\n",
              "    background-color: #E8F0FE;\n",
              "    border: none;\n",
              "    border-radius: 50%;\n",
              "    cursor: pointer;\n",
              "    display: none;\n",
              "    fill: #1967D2;\n",
              "    height: 32px;\n",
              "    padding: 0 0 0 0;\n",
              "    width: 32px;\n",
              "  }\n",
              "\n",
              "  .colab-df-quickchart:hover {\n",
              "    background-color: #E2EBFA;\n",
              "    box-shadow: 0px 1px 2px rgba(60, 64, 67, 0.3), 0px 1px 3px 1px rgba(60, 64, 67, 0.15);\n",
              "    fill: #174EA6;\n",
              "  }\n",
              "\n",
              "  [theme=dark] .colab-df-quickchart {\n",
              "    background-color: #3B4455;\n",
              "    fill: #D2E3FC;\n",
              "  }\n",
              "\n",
              "  [theme=dark] .colab-df-quickchart:hover {\n",
              "    background-color: #434B5C;\n",
              "    box-shadow: 0px 1px 3px 1px rgba(0, 0, 0, 0.15);\n",
              "    filter: drop-shadow(0px 1px 2px rgba(0, 0, 0, 0.3));\n",
              "    fill: #FFFFFF;\n",
              "  }\n",
              "</style>\n",
              "\n",
              "    <script>\n",
              "      async function quickchart(key) {\n",
              "        const containerElement = document.querySelector('#' + key);\n",
              "        const charts = await google.colab.kernel.invokeFunction(\n",
              "            'suggestCharts', [key], {});\n",
              "      }\n",
              "    </script>\n",
              "\n",
              "      <script>\n",
              "\n",
              "function displayQuickchartButton(domScope) {\n",
              "  let quickchartButtonEl =\n",
              "    domScope.querySelector('#df-7591efbf-d90d-4f28-96eb-3927655b046f button.colab-df-quickchart');\n",
              "  quickchartButtonEl.style.display =\n",
              "    google.colab.kernel.accessAllowed ? 'block' : 'none';\n",
              "}\n",
              "\n",
              "        displayQuickchartButton(document);\n",
              "      </script>\n",
              "      <style>\n",
              "    .colab-df-container {\n",
              "      display:flex;\n",
              "      flex-wrap:wrap;\n",
              "      gap: 12px;\n",
              "    }\n",
              "\n",
              "    .colab-df-convert {\n",
              "      background-color: #E8F0FE;\n",
              "      border: none;\n",
              "      border-radius: 50%;\n",
              "      cursor: pointer;\n",
              "      display: none;\n",
              "      fill: #1967D2;\n",
              "      height: 32px;\n",
              "      padding: 0 0 0 0;\n",
              "      width: 32px;\n",
              "    }\n",
              "\n",
              "    .colab-df-convert:hover {\n",
              "      background-color: #E2EBFA;\n",
              "      box-shadow: 0px 1px 2px rgba(60, 64, 67, 0.3), 0px 1px 3px 1px rgba(60, 64, 67, 0.15);\n",
              "      fill: #174EA6;\n",
              "    }\n",
              "\n",
              "    [theme=dark] .colab-df-convert {\n",
              "      background-color: #3B4455;\n",
              "      fill: #D2E3FC;\n",
              "    }\n",
              "\n",
              "    [theme=dark] .colab-df-convert:hover {\n",
              "      background-color: #434B5C;\n",
              "      box-shadow: 0px 1px 3px 1px rgba(0, 0, 0, 0.15);\n",
              "      filter: drop-shadow(0px 1px 2px rgba(0, 0, 0, 0.3));\n",
              "      fill: #FFFFFF;\n",
              "    }\n",
              "  </style>\n",
              "\n",
              "      <script>\n",
              "        const buttonEl =\n",
              "          document.querySelector('#df-24835207-2537-4fd2-bbc5-f3fd0eca6506 button.colab-df-convert');\n",
              "        buttonEl.style.display =\n",
              "          google.colab.kernel.accessAllowed ? 'block' : 'none';\n",
              "\n",
              "        async function convertToInteractive(key) {\n",
              "          const element = document.querySelector('#df-24835207-2537-4fd2-bbc5-f3fd0eca6506');\n",
              "          const dataTable =\n",
              "            await google.colab.kernel.invokeFunction('convertToInteractive',\n",
              "                                                     [key], {});\n",
              "          if (!dataTable) return;\n",
              "\n",
              "          const docLinkHtml = 'Like what you see? Visit the ' +\n",
              "            '<a target=\"_blank\" href=https://colab.research.google.com/notebooks/data_table.ipynb>data table notebook</a>'\n",
              "            + ' to learn more about interactive tables.';\n",
              "          element.innerHTML = '';\n",
              "          dataTable['output_type'] = 'display_data';\n",
              "          await google.colab.output.renderOutput(dataTable, element);\n",
              "          const docLink = document.createElement('div');\n",
              "          docLink.innerHTML = docLinkHtml;\n",
              "          element.appendChild(docLink);\n",
              "        }\n",
              "      </script>\n",
              "    </div>\n",
              "  </div>\n"
            ],
            "text/plain": [
              "      left_eye_center_x  left_eye_center_y  right_eye_center_x  \\\n",
              "0             66.033564          39.002274           30.227008   \n",
              "1             64.332936          34.970077           29.949277   \n",
              "2             65.057053          34.909642           30.903789   \n",
              "3             65.225739          37.261774           32.023096   \n",
              "4             66.725301          39.621261           32.244810   \n",
              "...                 ...                ...                 ...   \n",
              "2135          67.180378          35.816373           33.239956   \n",
              "2136          65.724490          36.301020           25.377551   \n",
              "2137          68.430866          38.651975           28.895857   \n",
              "2138          64.152180          30.691592           27.000898   \n",
              "2139          66.683755          34.483429           30.784490   \n",
              "\n",
              "      right_eye_center_y  left_eye_inner_corner_x  left_eye_inner_corner_y  \\\n",
              "0              36.421678                59.582075                39.647423   \n",
              "1              33.448715                58.856170                35.274349   \n",
              "2              34.909642                59.412000                36.320968   \n",
              "3              37.261774                60.003339                39.127179   \n",
              "4              38.042032                58.565890                39.621261   \n",
              "...                  ...                      ...                      ...   \n",
              "2135           34.921932                59.347973                37.000904   \n",
              "2136           37.311224                58.530612                37.739796   \n",
              "2137           37.617027                61.659350                40.100902   \n",
              "2138           40.868082                56.505624                34.126963   \n",
              "2139           38.578939                59.255347                36.065143   \n",
              "\n",
              "      left_eye_outer_corner_x  left_eye_outer_corner_y  \\\n",
              "0                   73.130346                39.969997   \n",
              "1                   70.722723                36.187166   \n",
              "2                   70.984421                36.320968   \n",
              "3                   72.314713                38.380967   \n",
              "4                   72.515926                39.884466   \n",
              "...                       ...                      ...   \n",
              "2135                72.667896                37.097600   \n",
              "2136                74.448980                37.525510   \n",
              "2137                75.586792                40.219182   \n",
              "2138                73.436776                28.556335   \n",
              "2139                73.942694                34.624653   \n",
              "\n",
              "      right_eye_inner_corner_x  right_eye_inner_corner_y  ...  nose_tip_y  \\\n",
              "0                    36.356571                 37.389402  ...   57.066803   \n",
              "1                    36.034723                 34.361532  ...   55.660936   \n",
              "2                    37.678105                 36.320968  ...   53.538947   \n",
              "3                    37.618643                 38.754115  ...   54.166539   \n",
              "4                    36.982380                 39.094852  ...   64.889521   \n",
              "...                        ...                       ...  ...         ...   \n",
              "2135                 39.404349                 36.589944  ...   60.065396   \n",
              "2136                 33.551020                 38.107143  ...   62.472789   \n",
              "2137                 37.665118                 39.087245  ...   63.289576   \n",
              "2138                 34.746122                 40.506939  ...   59.735799   \n",
              "2139                 37.478531                 39.398041  ...   59.269388   \n",
              "\n",
              "      mouth_left_corner_x  mouth_left_corner_y  mouth_right_corner_x  \\\n",
              "0               61.195308            79.970165             28.614496   \n",
              "1               56.421447            76.352000             35.122383   \n",
              "2               60.822947            73.014316             33.726316   \n",
              "3               65.598887            72.703722             37.245496   \n",
              "4               60.671411            77.523239             31.191755   \n",
              "...                   ...                  ...                   ...   \n",
              "2135            64.397610            73.248393             35.446431   \n",
              "2136            66.928121            79.229046             28.015377   \n",
              "2137            68.864397            77.495823             22.013981   \n",
              "2138            73.730743            70.273886             38.777143   \n",
              "2139            72.600433            71.862041             34.232759   \n",
              "\n",
              "      mouth_right_corner_y  mouth_center_top_lip_x  mouth_center_top_lip_y  \\\n",
              "0                77.388992               43.312602               72.935459   \n",
              "1                76.047660               46.684596               70.266553   \n",
              "2                72.732000               47.274947               70.191789   \n",
              "3                74.195478               50.303165               70.091687   \n",
              "4                76.997301               44.962748               73.707387   \n",
              "...                    ...                     ...                     ...   \n",
              "2135             74.014748               48.708626               76.760852   \n",
              "2136             81.151722               48.771976               81.816774   \n",
              "2137             77.368995               49.180628               79.043130   \n",
              "2138             80.684286               58.042857               79.301429   \n",
              "2139             77.339429               51.599453               75.963592   \n",
              "\n",
              "      mouth_center_bottom_lip_x  mouth_center_bottom_lip_y  \\\n",
              "0                     43.130707                  84.485774   \n",
              "1                     45.467915                  85.480170   \n",
              "2                     47.274947                  78.659368   \n",
              "3                     51.561183                  78.268383   \n",
              "4                     44.227141                  86.871166   \n",
              "...                         ...                        ...   \n",
              "2135                  48.559612                  77.335618   \n",
              "2136                  49.287271                  82.871156   \n",
              "2137                  47.176739                  89.544522   \n",
              "2138                  58.611086                  80.355543   \n",
              "2139                  52.923371                  82.661062   \n",
              "\n",
              "                                                  Image  \n",
              "0     238 236 237 238 240 240 239 241 241 243 240 23...  \n",
              "1     219 215 204 196 204 211 212 200 180 168 178 19...  \n",
              "2     144 142 159 180 188 188 184 180 167 132 84 59 ...  \n",
              "3     193 192 193 194 194 194 193 192 168 111 50 12 ...  \n",
              "4     147 148 160 196 215 214 216 217 219 220 206 18...  \n",
              "...                                                 ...  \n",
              "2135  191 191 191 190 189 185 184 120 54 34 19 24 31...  \n",
              "2136  19 19 19 18 13 7 3 4 3 1 3 9 11 12 12 13 10 9 ...  \n",
              "2137  31 40 47 31 54 58 63 100 86 80 82 75 79 86 90 ...  \n",
              "2138  7 1 5 1 3 20 12 0 5 8 6 18 13 9 8 12 12 11 4 8...  \n",
              "2139  68 19 19 23 19 26 23 16 8 15 9 9 17 16 15 27 2...  \n",
              "\n",
              "[2140 rows x 31 columns]"
            ]
          },
          "execution_count": 8,
          "metadata": {},
          "output_type": "execute_result"
        }
      ],
      "source": [
        "keyfacial_df"
      ]
    },
    {
      "cell_type": "code",
      "execution_count": null,
      "metadata": {
        "colab": {
          "base_uri": "https://localhost:8080/"
        },
        "id": "74slKynXFNho",
        "outputId": "8d4ff509-8d17-4ed4-eef7-3fb7f920f26c"
      },
      "outputs": [
        {
          "name": "stdout",
          "output_type": "stream",
          "text": [
            "<class 'pandas.core.frame.DataFrame'>\n",
            "RangeIndex: 2140 entries, 0 to 2139\n",
            "Data columns (total 31 columns):\n",
            " #   Column                     Non-Null Count  Dtype  \n",
            "---  ------                     --------------  -----  \n",
            " 0   left_eye_center_x          2140 non-null   float64\n",
            " 1   left_eye_center_y          2140 non-null   float64\n",
            " 2   right_eye_center_x         2140 non-null   float64\n",
            " 3   right_eye_center_y         2140 non-null   float64\n",
            " 4   left_eye_inner_corner_x    2140 non-null   float64\n",
            " 5   left_eye_inner_corner_y    2140 non-null   float64\n",
            " 6   left_eye_outer_corner_x    2140 non-null   float64\n",
            " 7   left_eye_outer_corner_y    2140 non-null   float64\n",
            " 8   right_eye_inner_corner_x   2140 non-null   float64\n",
            " 9   right_eye_inner_corner_y   2140 non-null   float64\n",
            " 10  right_eye_outer_corner_x   2140 non-null   float64\n",
            " 11  right_eye_outer_corner_y   2140 non-null   float64\n",
            " 12  left_eyebrow_inner_end_x   2140 non-null   float64\n",
            " 13  left_eyebrow_inner_end_y   2140 non-null   float64\n",
            " 14  left_eyebrow_outer_end_x   2140 non-null   float64\n",
            " 15  left_eyebrow_outer_end_y   2140 non-null   float64\n",
            " 16  right_eyebrow_inner_end_x  2140 non-null   float64\n",
            " 17  right_eyebrow_inner_end_y  2140 non-null   float64\n",
            " 18  right_eyebrow_outer_end_x  2140 non-null   float64\n",
            " 19  right_eyebrow_outer_end_y  2140 non-null   float64\n",
            " 20  nose_tip_x                 2140 non-null   float64\n",
            " 21  nose_tip_y                 2140 non-null   float64\n",
            " 22  mouth_left_corner_x        2140 non-null   float64\n",
            " 23  mouth_left_corner_y        2140 non-null   float64\n",
            " 24  mouth_right_corner_x       2140 non-null   float64\n",
            " 25  mouth_right_corner_y       2140 non-null   float64\n",
            " 26  mouth_center_top_lip_x     2140 non-null   float64\n",
            " 27  mouth_center_top_lip_y     2140 non-null   float64\n",
            " 28  mouth_center_bottom_lip_x  2140 non-null   float64\n",
            " 29  mouth_center_bottom_lip_y  2140 non-null   float64\n",
            " 30  Image                      2140 non-null   object \n",
            "dtypes: float64(30), object(1)\n",
            "memory usage: 518.4+ KB\n"
          ]
        }
      ],
      "source": [
        "# Obtain relavant information about the dataframe\n",
        "keyfacial_df.info()"
      ]
    },
    {
      "cell_type": "code",
      "execution_count": null,
      "metadata": {
        "colab": {
          "base_uri": "https://localhost:8080/"
        },
        "id": "byqdelAuFR3r",
        "outputId": "7e97b554-63e2-4742-d7bc-de816fab9f65"
      },
      "outputs": [
        {
          "data": {
            "text/plain": [
              "left_eye_center_x            0\n",
              "left_eye_center_y            0\n",
              "right_eye_center_x           0\n",
              "right_eye_center_y           0\n",
              "left_eye_inner_corner_x      0\n",
              "left_eye_inner_corner_y      0\n",
              "left_eye_outer_corner_x      0\n",
              "left_eye_outer_corner_y      0\n",
              "right_eye_inner_corner_x     0\n",
              "right_eye_inner_corner_y     0\n",
              "right_eye_outer_corner_x     0\n",
              "right_eye_outer_corner_y     0\n",
              "left_eyebrow_inner_end_x     0\n",
              "left_eyebrow_inner_end_y     0\n",
              "left_eyebrow_outer_end_x     0\n",
              "left_eyebrow_outer_end_y     0\n",
              "right_eyebrow_inner_end_x    0\n",
              "right_eyebrow_inner_end_y    0\n",
              "right_eyebrow_outer_end_x    0\n",
              "right_eyebrow_outer_end_y    0\n",
              "nose_tip_x                   0\n",
              "nose_tip_y                   0\n",
              "mouth_left_corner_x          0\n",
              "mouth_left_corner_y          0\n",
              "mouth_right_corner_x         0\n",
              "mouth_right_corner_y         0\n",
              "mouth_center_top_lip_x       0\n",
              "mouth_center_top_lip_y       0\n",
              "mouth_center_bottom_lip_x    0\n",
              "mouth_center_bottom_lip_y    0\n",
              "Image                        0\n",
              "dtype: int64"
            ]
          },
          "execution_count": 10,
          "metadata": {},
          "output_type": "execute_result"
        }
      ],
      "source": [
        "# Check if null values exist in the dataframe\n",
        "keyfacial_df.isnull().sum()"
      ]
    },
    {
      "cell_type": "code",
      "execution_count": null,
      "metadata": {
        "colab": {
          "base_uri": "https://localhost:8080/"
        },
        "id": "zn4jFeIkFZte",
        "outputId": "29810181-34ef-4171-ddb4-4858bf4cc1f5"
      },
      "outputs": [
        {
          "data": {
            "text/plain": [
              "(2140,)"
            ]
          },
          "execution_count": 11,
          "metadata": {},
          "output_type": "execute_result"
        }
      ],
      "source": [
        "keyfacial_df['Image'].shape"
      ]
    },
    {
      "cell_type": "code",
      "execution_count": null,
      "metadata": {
        "id": "gf-gDMQ9Fag1"
      },
      "outputs": [],
      "source": [
        "# Since values for the image are given as space separated string, separate the values using ' ' as separator.\n",
        "# Then convert this into numpy array using np.fromstring and convert the obtained 1D array into 2D array of shape (96, 96)\n",
        "keyfacial_df['Image'] = keyfacial_df['Image'].apply(lambda x: np.fromstring(x, dtype = int, sep = ' ').reshape(96, 96))"
      ]
    },
    {
      "cell_type": "code",
      "execution_count": null,
      "metadata": {
        "colab": {
          "base_uri": "https://localhost:8080/"
        },
        "id": "41lwrcw1FjQo",
        "outputId": "55d31e96-0f13-4dec-fb0d-9cf85a60d43d"
      },
      "outputs": [
        {
          "data": {
            "text/plain": [
              "(96, 96)"
            ]
          },
          "execution_count": 13,
          "metadata": {},
          "output_type": "execute_result"
        }
      ],
      "source": [
        "# Obtain the Shape of the image\n",
        "keyfacial_df['Image'][0].shape"
      ]
    },
    {
      "cell_type": "markdown",
      "metadata": {
        "id": "0EcEHN8ZFrlV"
      },
      "source": [
        "# Image Visualization"
      ]
    },
    {
      "cell_type": "code",
      "execution_count": null,
      "metadata": {
        "colab": {
          "base_uri": "https://localhost:8080/",
          "height": 433
        },
        "id": "KpJujwjyr_dc",
        "outputId": "f8207468-d39a-4a88-d4e3-b6f6a0b7a69e"
      },
      "outputs": [
        {
          "data": {
            "image/png": "[encoded data removed]",
            "text/plain": [
              "<Figure size 640x480 with 1 Axes>"
            ]
          },
          "metadata": {},
          "output_type": "display_data"
        }
      ],
      "source": [
        "# Plot a random image from the dataset along with facial keypoints.\n",
        "# Image data is obtained from df['Image'] and plotted using plt.imshow\n",
        "# 15 x and y coordinates for the corresponding image\n",
        "# since x-coordinates are in even columns like 0,2,4,.. and y-coordinates are in odd columns like 1,3,5,..\n",
        "# we access their value using .loc command, which get the values for coordinates of the image based on the column it is refering to.\n",
        "\n",
        "i = np.random.randint(1, len(keyfacial_df))\n",
        "plt.imshow(keyfacial_df['Image'][i], cmap = 'gray')\n",
        "for j in range(1, 31, 2):\n",
        "        plt.plot(keyfacial_df.loc[i][j-1], keyfacial_df.loc[i][j], 'bx')\n"
      ]
    },
    {
      "cell_type": "code",
      "execution_count": null,
      "metadata": {
        "id": "tPbtjUqHhYTX"
      },
      "outputs": [],
      "source": [
        "import random\n",
        "# Let's view more images in a grid format\n",
        "fig = plt.figure(figsize=(20, 20))\n",
        "\n",
        "for i in range(64):\n",
        "    k = random.randint(1, len(keyfacial_df))\n",
        "    ax = fig.add_subplot(8, 8, i + 1)\n",
        "    image = plt.imshow(keyfacial_df['Image'][k],cmap = 'gray')\n",
        "    for j in range(1,31,2):\n",
        "        plt.plot(keyfacial_df.loc[k][j-1], keyfacial_df.loc[k][j], 'bx')\n"
      ]
    },
    {
      "cell_type": "markdown",
      "metadata": {
        "id": "KRgeCvTXOiQD"
      },
      "source": [
        "Predict Facial Expression"
      ]
    },
    {
      "cell_type": "code",
      "execution_count": null,
      "metadata": {
        "id": "r_J8ApMmOh6f"
      },
      "outputs": [],
      "source": [
        "# read the csv files for the facial expression data\n",
        "facialexpression_df = pd.read_csv('icml_face_data.csv')"
      ]
    },
    {
      "cell_type": "code",
      "execution_count": null,
      "metadata": {
        "colab": {
          "base_uri": "https://localhost:8080/",
          "height": 423
        },
        "id": "SIYmCi43OqAG",
        "outputId": "bbaa8614-287f-48bd-e7f9-97a4e14289cf"
      },
      "outputs": [
        {
          "data": {
            "text/html": [
              "\n",
              "\n",
              "  <div id=\"df-7eb651fb-bb30-47af-92c0-b0b9d374d8d4\">\n",
              "    <div class=\"colab-df-container\">\n",
              "      <div>\n",
              "<style scoped>\n",
              "    .dataframe tbody tr th:only-of-type {\n",
              "        vertical-align: middle;\n",
              "    }\n",
              "\n",
              "    .dataframe tbody tr th {\n",
              "        vertical-align: top;\n",
              "    }\n",
              "\n",
              "    .dataframe thead th {\n",
              "        text-align: right;\n",
              "    }\n",
              "</style>\n",
              "<table border=\"1\" class=\"dataframe\">\n",
              "  <thead>\n",
              "    <tr style=\"text-align: right;\">\n",
              "      <th></th>\n",
              "      <th>emotion</th>\n",
              "      <th>pixels</th>\n",
              "    </tr>\n",
              "  </thead>\n",
              "  <tbody>\n",
              "    <tr>\n",
              "      <th>0</th>\n",
              "      <td>0</td>\n",
              "      <td>70 80 82 72 58 58 60 63 54 58 60 48 89 115 121...</td>\n",
              "    </tr>\n",
              "    <tr>\n",
              "      <th>1</th>\n",
              "      <td>0</td>\n",
              "      <td>151 150 147 155 148 133 111 140 170 174 182 15...</td>\n",
              "    </tr>\n",
              "    <tr>\n",
              "      <th>2</th>\n",
              "      <td>2</td>\n",
              "      <td>24 32 36 30 32 23 19 20 30 41 21 22 32 34 21 1...</td>\n",
              "    </tr>\n",
              "    <tr>\n",
              "      <th>3</th>\n",
              "      <td>2</td>\n",
              "      <td>20 17 19 21 25 38 42 42 46 54 56 62 63 66 82 1...</td>\n",
              "    </tr>\n",
              "    <tr>\n",
              "      <th>4</th>\n",
              "      <td>3</td>\n",
              "      <td>77 78 79 79 78 75 60 55 47 48 58 73 77 79 57 5...</td>\n",
              "    </tr>\n",
              "    <tr>\n",
              "      <th>...</th>\n",
              "      <td>...</td>\n",
              "      <td>...</td>\n",
              "    </tr>\n",
              "    <tr>\n",
              "      <th>24563</th>\n",
              "      <td>3</td>\n",
              "      <td>0 39 81 80 104 97 51 64 68 46 41 67 53 68 70 5...</td>\n",
              "    </tr>\n",
              "    <tr>\n",
              "      <th>24564</th>\n",
              "      <td>0</td>\n",
              "      <td>181 177 176 156 178 144 136 132 122 107 131 16...</td>\n",
              "    </tr>\n",
              "    <tr>\n",
              "      <th>24565</th>\n",
              "      <td>3</td>\n",
              "      <td>178 174 172 173 181 188 191 194 196 199 200 20...</td>\n",
              "    </tr>\n",
              "    <tr>\n",
              "      <th>24566</th>\n",
              "      <td>0</td>\n",
              "      <td>17 17 16 23 28 22 19 17 25 26 20 24 31 19 27 9...</td>\n",
              "    </tr>\n",
              "    <tr>\n",
              "      <th>24567</th>\n",
              "      <td>3</td>\n",
              "      <td>30 28 28 29 31 30 42 68 79 81 77 67 67 71 63 6...</td>\n",
              "    </tr>\n",
              "  </tbody>\n",
              "</table>\n",
              "<p>24568 rows × 2 columns</p>\n",
              "</div>\n",
              "      <button class=\"colab-df-convert\" onclick=\"convertToInteractive('df-7eb651fb-bb30-47af-92c0-b0b9d374d8d4')\"\n",
              "              title=\"Convert this dataframe to an interactive table.\"\n",
              "              style=\"display:none;\">\n",
              "\n",
              "  <svg xmlns=\"http://www.w3.org/2000/svg\" height=\"24px\"viewBox=\"0 0 24 24\"\n",
              "       width=\"24px\">\n",
              "    <path d=\"M0 0h24v24H0V0z\" fill=\"none\"/>\n",
              "    <path d=\"M18.56 5.44l.94 2.06.94-2.06 2.06-.94-2.06-.94-.94-2.06-.94 2.06-2.06.94zm-11 1L8.5 8.5l.94-2.06 2.06-.94-2.06-.94L8.5 2.5l-.94 2.06-2.06.94zm10 10l.94 2.06.94-2.06 2.06-.94-2.06-.94-.94-2.06-.94 2.06-2.06.94z\"/><path d=\"M17.41 7.96l-1.37-1.37c-.4-.4-.92-.59-1.43-.59-.52 0-1.04.2-1.43.59L10.3 9.45l-7.72 7.72c-.78.78-.78 2.05 0 2.83L4 21.41c.39.39.9.59 1.41.59.51 0 1.02-.2 1.41-.59l7.78-7.78 2.81-2.81c.8-.78.8-2.07 0-2.86zM5.41 20L4 18.59l7.72-7.72 1.47 1.35L5.41 20z\"/>\n",
              "  </svg>\n",
              "      </button>\n",
              "\n",
              "\n",
              "\n",
              "    <div id=\"df-cc955455-eace-4a61-8d22-5e4f92afa323\">\n",
              "      <button class=\"colab-df-quickchart\" onclick=\"quickchart('df-cc955455-eace-4a61-8d22-5e4f92afa323')\"\n",
              "              title=\"Suggest charts.\"\n",
              "              style=\"display:none;\">\n",
              "\n",
              "<svg xmlns=\"http://www.w3.org/2000/svg\" height=\"24px\"viewBox=\"0 0 24 24\"\n",
              "     width=\"24px\">\n",
              "    <g>\n",
              "        <path d=\"M19 3H5c-1.1 0-2 .9-2 2v14c0 1.1.9 2 2 2h14c1.1 0 2-.9 2-2V5c0-1.1-.9-2-2-2zM9 17H7v-7h2v7zm4 0h-2V7h2v10zm4 0h-2v-4h2v4z\"/>\n",
              "    </g>\n",
              "</svg>\n",
              "      </button>\n",
              "    </div>\n",
              "\n",
              "<style>\n",
              "  .colab-df-quickchart {\n",
              "    background-color: #E8F0FE;\n",
              "    border: none;\n",
              "    border-radius: 50%;\n",
              "    cursor: pointer;\n",
              "    display: none;\n",
              "    fill: #1967D2;\n",
              "    height: 32px;\n",
              "    padding: 0 0 0 0;\n",
              "    width: 32px;\n",
              "  }\n",
              "\n",
              "  .colab-df-quickchart:hover {\n",
              "    background-color: #E2EBFA;\n",
              "    box-shadow: 0px 1px 2px rgba(60, 64, 67, 0.3), 0px 1px 3px 1px rgba(60, 64, 67, 0.15);\n",
              "    fill: #174EA6;\n",
              "  }\n",
              "\n",
              "  [theme=dark] .colab-df-quickchart {\n",
              "    background-color: #3B4455;\n",
              "    fill: #D2E3FC;\n",
              "  }\n",
              "\n",
              "  [theme=dark] .colab-df-quickchart:hover {\n",
              "    background-color: #434B5C;\n",
              "    box-shadow: 0px 1px 3px 1px rgba(0, 0, 0, 0.15);\n",
              "    filter: drop-shadow(0px 1px 2px rgba(0, 0, 0, 0.3));\n",
              "    fill: #FFFFFF;\n",
              "  }\n",
              "</style>\n",
              "\n",
              "    <script>\n",
              "      async function quickchart(key) {\n",
              "        const containerElement = document.querySelector('#' + key);\n",
              "        const charts = await google.colab.kernel.invokeFunction(\n",
              "            'suggestCharts', [key], {});\n",
              "      }\n",
              "    </script>\n",
              "\n",
              "      <script>\n",
              "\n",
              "function displayQuickchartButton(domScope) {\n",
              "  let quickchartButtonEl =\n",
              "    domScope.querySelector('#df-cc955455-eace-4a61-8d22-5e4f92afa323 button.colab-df-quickchart');\n",
              "  quickchartButtonEl.style.display =\n",
              "    google.colab.kernel.accessAllowed ? 'block' : 'none';\n",
              "}\n",
              "\n",
              "        displayQuickchartButton(document);\n",
              "      </script>\n",
              "      <style>\n",
              "    .colab-df-container {\n",
              "      display:flex;\n",
              "      flex-wrap:wrap;\n",
              "      gap: 12px;\n",
              "    }\n",
              "\n",
              "    .colab-df-convert {\n",
              "      background-color: #E8F0FE;\n",
              "      border: none;\n",
              "      border-radius: 50%;\n",
              "      cursor: pointer;\n",
              "      display: none;\n",
              "      fill: #1967D2;\n",
              "      height: 32px;\n",
              "      padding: 0 0 0 0;\n",
              "      width: 32px;\n",
              "    }\n",
              "\n",
              "    .colab-df-convert:hover {\n",
              "      background-color: #E2EBFA;\n",
              "      box-shadow: 0px 1px 2px rgba(60, 64, 67, 0.3), 0px 1px 3px 1px rgba(60, 64, 67, 0.15);\n",
              "      fill: #174EA6;\n",
              "    }\n",
              "\n",
              "    [theme=dark] .colab-df-convert {\n",
              "      background-color: #3B4455;\n",
              "      fill: #D2E3FC;\n",
              "    }\n",
              "\n",
              "    [theme=dark] .colab-df-convert:hover {\n",
              "      background-color: #434B5C;\n",
              "      box-shadow: 0px 1px 3px 1px rgba(0, 0, 0, 0.15);\n",
              "      filter: drop-shadow(0px 1px 2px rgba(0, 0, 0, 0.3));\n",
              "      fill: #FFFFFF;\n",
              "    }\n",
              "  </style>\n",
              "\n",
              "      <script>\n",
              "        const buttonEl =\n",
              "          document.querySelector('#df-7eb651fb-bb30-47af-92c0-b0b9d374d8d4 button.colab-df-convert');\n",
              "        buttonEl.style.display =\n",
              "          google.colab.kernel.accessAllowed ? 'block' : 'none';\n",
              "\n",
              "        async function convertToInteractive(key) {\n",
              "          const element = document.querySelector('#df-7eb651fb-bb30-47af-92c0-b0b9d374d8d4');\n",
              "          const dataTable =\n",
              "            await google.colab.kernel.invokeFunction('convertToInteractive',\n",
              "                                                     [key], {});\n",
              "          if (!dataTable) return;\n",
              "\n",
              "          const docLinkHtml = 'Like what you see? Visit the ' +\n",
              "            '<a target=\"_blank\" href=https://colab.research.google.com/notebooks/data_table.ipynb>data table notebook</a>'\n",
              "            + ' to learn more about interactive tables.';\n",
              "          element.innerHTML = '';\n",
              "          dataTable['output_type'] = 'display_data';\n",
              "          await google.colab.output.renderOutput(dataTable, element);\n",
              "          const docLink = document.createElement('div');\n",
              "          docLink.innerHTML = docLinkHtml;\n",
              "          element.appendChild(docLink);\n",
              "        }\n",
              "      </script>\n",
              "    </div>\n",
              "  </div>\n"
            ],
            "text/plain": [
              "       emotion                                             pixels\n",
              "0            0  70 80 82 72 58 58 60 63 54 58 60 48 89 115 121...\n",
              "1            0  151 150 147 155 148 133 111 140 170 174 182 15...\n",
              "2            2  24 32 36 30 32 23 19 20 30 41 21 22 32 34 21 1...\n",
              "3            2  20 17 19 21 25 38 42 42 46 54 56 62 63 66 82 1...\n",
              "4            3  77 78 79 79 78 75 60 55 47 48 58 73 77 79 57 5...\n",
              "...        ...                                                ...\n",
              "24563        3  0 39 81 80 104 97 51 64 68 46 41 67 53 68 70 5...\n",
              "24564        0  181 177 176 156 178 144 136 132 122 107 131 16...\n",
              "24565        3  178 174 172 173 181 188 191 194 196 199 200 20...\n",
              "24566        0  17 17 16 23 28 22 19 17 25 26 20 24 31 19 27 9...\n",
              "24567        3  30 28 28 29 31 30 42 68 79 81 77 67 67 71 63 6...\n",
              "\n",
              "[24568 rows x 2 columns]"
            ]
          },
          "execution_count": 18,
          "metadata": {},
          "output_type": "execute_result"
        }
      ],
      "source": [
        "facialexpression_df"
      ]
    },
    {
      "cell_type": "markdown",
      "metadata": {
        "id": "RFlMf2z7QLzb"
      },
      "source": [
        "Facial Expression Categories:\n",
        "0- Angry, 1- Disgust, 2- Sad, 3- Happy, 4- Surprise\n",
        "\n",
        "\n"
      ]
    },
    {
      "cell_type": "code",
      "execution_count": null,
      "metadata": {
        "colab": {
          "base_uri": "https://localhost:8080/",
          "height": 123
        },
        "id": "nDLjUm4mOt4o",
        "outputId": "4f39bf3c-efac-44a2-d66a-7999b4b17d3d"
      },
      "outputs": [
        {
          "data": {
            "application/vnd.google.colaboratory.intrinsic+json": {
              "type": "string"
            },
            "text/plain": [
              "'70 80 82 72 58 58 60 63 54 58 60 48 89 115 121 119 115 110 98 91 84 84 90 99 110 126 143 153 158 171 169 172 169 165 129 110 113 107 95 79 66 62 56 57 61 52 43 41 65 61 58 57 56 69 75 70 65 56 54 105 146 154 151 151 155 155 150 147 147 148 152 158 164 172 177 182 186 189 188 190 188 180 167 116 95 103 97 77 72 62 55 58 54 56 52 44 50 43 54 64 63 71 68 64 52 66 119 156 161 164 163 164 167 168 170 174 175 176 178 179 183 187 190 195 197 198 197 198 195 191 190 145 86 100 90 65 57 60 54 51 41 49 56 47 38 44 63 55 46 52 54 55 83 138 157 158 165 168 172 171 173 176 179 179 180 182 185 187 189 189 192 197 200 199 196 198 200 198 197 177 91 87 96 58 58 59 51 42 37 41 47 45 37 35 36 30 41 47 59 94 141 159 161 161 164 170 171 172 176 178 179 182 183 183 187 189 192 192 194 195 200 200 199 199 200 201 197 193 111 71 108 69 55 61 51 42 43 56 54 44 24 29 31 45 61 72 100 136 150 159 163 162 163 170 172 171 174 177 177 180 187 186 187 189 192 192 194 195 196 197 199 200 201 200 197 201 137 58 98 92 57 62 53 47 41 40 51 43 24 35 52 63 75 104 129 143 149 158 162 164 166 171 173 172 174 178 178 179 187 188 188 191 193 194 195 198 199 199 197 198 197 197 197 201 164 52 78 87 69 58 56 50 54 39 44 42 26 31 49 65 91 119 134 145 147 152 159 163 167 171 170 169 174 178 178 179 187 187 185 187 190 188 187 191 197 201 199 199 200 197 196 197 182 58 62 77 61 60 55 49 59 52 54 44 22 30 47 68 102 123 136 144 148 150 153 157 167 172 173 170 171 177 179 178 186 190 186 189 196 193 191 194 190 190 192 197 201 203 199 194 189 69 48 74 56 60 57 50 59 59 51 41 20 34 47 79 111 132 139 143 145 147 150 151 160 169 172 171 167 171 177 177 174 180 182 181 192 196 189 192 198 195 194 196 198 201 202 195 189 70 39 69 61 61 61 53 59 59 45 40 26 40 61 93 124 135 138 142 144 146 151 152 158 165 168 168 165 161 164 173 172 167 172 167 180 198 198 193 199 195 194 198 200 198 197 195 190 65 35 68 59 59 62 57 60 59 50 44 32 54 90 115 132 137 138 140 144 146 146 156 165 168 174 176 176 175 168 168 169 171 175 171 172 192 194 184 198 205 201 194 195 193 195 192 186 57 38 72 65 57 62 58 57 60 54 49 47 79 116 130 138 141 141 139 141 143 145 157 164 164 166 173 174 176 179 179 176 181 189 188 173 180 175 160 182 189 198 192 189 190 190 188 172 46 44 64 66 59 62 57 56 62 53 50 66 103 133 137 141 143 141 136 132 131 136 127 118 111 107 108 123 131 143 154 158 166 177 181 175 170 159 148 171 161 176 185 192 194 188 190 162 53 49 58 63 61 61 55 56 61 51 50 81 116 139 142 142 146 144 136 128 119 112 97 85 90 91 88 92 90 80 81 84 106 122 132 144 145 144 147 163 147 163 173 181 190 187 191 167 61 48 53 61 61 58 54 56 61 51 53 89 123 140 144 145 146 147 136 122 107 99 95 92 90 87 83 76 67 52 46 52 63 69 83 96 119 132 148 159 136 137 143 138 143 152 156 156 70 48 50 59 61 57 54 54 61 52 56 93 124 135 140 144 148 150 140 125 114 101 80 54 56 54 41 41 33 40 39 35 49 60 63 74 107 129 147 147 116 111 100 77 76 86 108 111 73 49 50 60 62 60 57 55 63 59 56 89 121 134 139 146 151 152 150 141 127 111 96 77 85 70 32 31 37 91 65 50 48 59 73 83 112 136 155 130 60 46 38 40 43 81 116 91 72 52 48 58 62 62 59 53 61 59 52 85 114 134 140 147 154 159 158 153 145 143 150 126 121 125 68 45 89 137 95 70 78 75 95 109 131 153 171 94 23 16 32 82 82 65 113 77 71 54 48 56 62 62 60 53 60 56 52 75 108 133 141 149 158 166 169 167 163 156 155 146 112 119 134 127 142 140 121 117 129 114 120 129 146 174 191 98 46 33 33 109 147 98 109 67 73 55 50 56 64 64 61 58 61 53 54 64 106 129 140 148 159 169 175 176 174 165 159 156 145 120 115 124 127 131 133 141 147 142 141 147 161 182 202 154 114 96 100 158 158 153 123 61 76 57 48 56 64 64 63 62 61 54 55 44 97 131 137 147 158 168 177 181 183 179 170 168 169 165 155 152 151 152 154 162 165 158 153 158 168 187 206 186 147 135 144 145 152 178 115 57 74 58 48 58 64 63 63 59 63 55 53 66 104 130 132 144 153 162 170 180 185 187 181 178 182 180 177 173 171 171 177 176 172 164 161 167 164 185 207 197 173 152 141 141 161 191 104 54 69 60 48 57 65 62 60 57 64 55 50 94 111 124 130 135 150 159 163 172 179 184 184 178 178 177 173 171 174 177 178 176 169 165 161 163 161 180 205 201 183 171 177 178 180 194 101 55 65 60 47 55 65 63 59 58 63 57 52 90 105 117 122 130 143 153 157 163 171 174 182 183 182 178 174 175 175 177 175 172 163 161 159 157 162 178 200 201 188 181 172 177 187 198 98 57 63 61 48 52 61 64 63 60 65 57 51 95 104 113 117 127 136 145 152 156 162 162 165 173 177 182 183 183 180 181 177 165 153 154 152 153 160 174 193 200 188 185 180 182 192 196 101 60 60 56 49 50 60 66 64 62 64 59 53 99 104 111 112 118 132 142 147 155 158 160 159 162 171 176 184 186 183 180 169 154 141 135 145 155 164 180 196 205 188 189 188 189 193 192 98 61 64 55 49 49 60 66 63 64 63 60 57 99 105 108 112 113 125 139 143 150 155 158 164 169 174 176 182 183 182 177 163 141 133 147 151 164 170 185 200 210 194 188 192 186 185 180 88 64 67 60 46 50 59 65 64 64 64 59 56 101 103 108 109 109 118 134 143 143 147 155 159 166 171 174 177 179 178 172 153 129 143 161 159 166 171 186 197 207 203 185 191 183 179 164 73 67 67 66 48 50 57 65 65 63 64 61 57 103 108 114 112 110 115 128 138 144 145 152 156 159 164 168 172 172 169 161 139 125 147 156 161 162 164 180 188 188 197 185 187 181 180 137 65 70 68 70 52 47 53 62 65 63 65 61 58 105 109 112 120 113 112 122 134 141 149 150 153 155 159 164 167 167 162 152 134 115 126 119 106 99 109 141 158 150 155 175 184 176 175 106 63 70 68 68 50 46 50 57 63 63 64 61 59 107 110 110 117 117 114 117 128 137 147 148 150 153 156 161 162 163 156 150 148 105 70 45 26 25 47 73 74 79 128 177 180 173 157 77 66 68 67 68 52 49 51 56 62 62 62 62 60 101 107 108 114 115 114 117 125 134 143 148 149 152 154 158 160 158 155 160 158 132 88 73 73 64 52 66 91 138 160 174 173 171 125 64 67 63 64 68 54 50 49 54 60 60 60 62 60 98 105 105 109 111 114 117 125 131 139 145 148 153 153 156 157 156 161 168 165 153 139 122 115 105 89 103 150 182 161 171 173 162 89 64 64 62 64 69 56 48 49 56 58 60 59 62 60 89 99 108 106 109 111 119 120 125 134 140 146 152 153 153 153 156 159 162 160 150 136 129 133 133 122 133 148 178 168 168 175 132 61 67 66 65 63 69 57 47 50 55 58 59 61 62 60 89 96 105 107 105 107 117 120 123 124 133 141 149 153 151 145 151 145 139 140 138 128 126 124 129 125 136 142 164 172 168 168 87 58 67 63 62 61 69 57 39 44 55 56 59 63 62 62 84 91 92 98 102 103 113 119 121 118 128 138 146 151 147 142 140 128 127 128 129 126 135 140 135 130 143 146 149 166 174 131 62 65 62 59 67 63 68 83 89 65 42 52 60 60 62 63 77 84 84 91 99 101 107 112 117 118 122 134 145 149 144 134 127 127 129 130 134 125 126 132 152 153 151 150 151 165 171 87 59 65 64 61 58 86 122 138 208 207 154 71 52 56 55 56 69 77 83 85 93 91 102 112 116 118 119 127 140 144 142 131 112 95 85 75 62 58 56 59 87 88 83 127 142 165 149 62 65 62 59 77 113 192 156 84 185 196 197 168 81 70 75 69 58 65 73 82 81 79 95 107 114 116 116 123 136 142 136 132 131 102 71 58 49 41 33 41 36 49 60 99 136 168 111 53 63 71 138 186 203 195 146 87 91 72 79 95 103 82 61 74 55 57 68 75 76 77 84 96 106 110 111 121 130 138 136 142 153 159 152 152 154 145 133 136 147 158 156 155 147 158 74 57 60 123 181 174 126 89 72 67 57 43 55 67 76 86 60 45 51 45 52 68 75 73 77 88 96 100 104 113 115 121 134 146 149 146 149 148 155 168 174 179 178 169 169 174 161 131 44 47 82 150 168 136 104 75 66 80 67 58 48 54 68 88 121 102 51 45 38 53 66 65 70 86 92 96 102 103 109 116 130 136 136 133 136 138 137 135 128 130 143 158 165 164 147 87 62 74 123 160 170 100 99 107 79 71 86 75 57 45 49 65 122 130 43 48 40 39 55 61 59 71 82 87 88 93 105 118 123 128 130 124 111 98 94 88 67 55 84 129 147 148 105 48 82 142 161 164 164 76 72 85 100 88 72 90 84 54 48 54 73 100 73 36 44 31 37 53 51 55 67 74 77 87 97 108 118 125 132 122 106 86 80 82 75 73 83 110 129 126 46 22 130 177 196 193 166 72 52 54 73 100 92 75 99 95 65 68 61 63 91 65 42 37 22 28 39 44 57 68 74 83 92 101 119 131 143 141 134 136 140 139 134 136 139 138 136 85 23 114 202 198 199 180 173 98 36 86 130 150 137 99 77 101 99 72 56 43 77 82 79 70 56 28 20 25 36 50 63 73 83 98 111 124 139 156 160 159 169 168 165 163 159 149 114 43 26 133 183 192 177 152 137 130 125 139 173 195 186 137 101 88 101 105 70 46 77 72 84 87 87 81 64 37 20 31 40 46 65 88 108 110 125 149 157 153 162 164 158 159 154 140 78 21 11 61 144 168 173 157 138 150 148 132 159 182 183 136 106 116 95 106 109 82'"
            ]
          },
          "execution_count": 19,
          "metadata": {},
          "output_type": "execute_result"
        }
      ],
      "source": [
        "facialexpression_df[' pixels'][0] # String format"
      ]
    },
    {
      "cell_type": "code",
      "execution_count": null,
      "metadata": {
        "id": "uu8KxB0FQ2Du"
      },
      "outputs": [],
      "source": [
        "# function to convert pixel values in string format to array format\n",
        "\n",
        "def string2array(x):\n",
        "  return np.array(x.split(' ')).reshape(48, 48, 1).astype('float32')"
      ]
    },
    {
      "cell_type": "code",
      "execution_count": null,
      "metadata": {
        "id": "DoDBCE2yQ6HZ"
      },
      "outputs": [],
      "source": [
        "# Resize images from (48, 48) to (96, 96)\n",
        "\n",
        "def resize(x):\n",
        "\n",
        "  img = x.reshape(48, 48)\n",
        "  return cv2.resize(img, dsize=(96, 96), interpolation = cv2.INTER_CUBIC)"
      ]
    },
    {
      "cell_type": "code",
      "execution_count": null,
      "metadata": {
        "id": "pBzOlSmZQ8b9"
      },
      "outputs": [],
      "source": [
        "facialexpression_df[' pixels'] = facialexpression_df[' pixels'].apply(lambda x: string2array(x))"
      ]
    },
    {
      "cell_type": "code",
      "execution_count": null,
      "metadata": {
        "id": "2zkG5tweQ_lq"
      },
      "outputs": [],
      "source": [
        "facialexpression_df[' pixels'] = facialexpression_df[' pixels'].apply(lambda x: resize(x))"
      ]
    },
    {
      "cell_type": "code",
      "execution_count": null,
      "metadata": {
        "colab": {
          "base_uri": "https://localhost:8080/",
          "height": 206
        },
        "id": "6rOP_LSyRCEt",
        "outputId": "c6a8de03-27a6-4e9d-9536-baf528979a10"
      },
      "outputs": [
        {
          "data": {
            "text/html": [
              "\n",
              "\n",
              "  <div id=\"df-8fa07766-6cd1-4a8a-98b5-e4153836d20f\">\n",
              "    <div class=\"colab-df-container\">\n",
              "      <div>\n",
              "<style scoped>\n",
              "    .dataframe tbody tr th:only-of-type {\n",
              "        vertical-align: middle;\n",
              "    }\n",
              "\n",
              "    .dataframe tbody tr th {\n",
              "        vertical-align: top;\n",
              "    }\n",
              "\n",
              "    .dataframe thead th {\n",
              "        text-align: right;\n",
              "    }\n",
              "</style>\n",
              "<table border=\"1\" class=\"dataframe\">\n",
              "  <thead>\n",
              "    <tr style=\"text-align: right;\">\n",
              "      <th></th>\n",
              "      <th>emotion</th>\n",
              "      <th>pixels</th>\n",
              "    </tr>\n",
              "  </thead>\n",
              "  <tbody>\n",
              "    <tr>\n",
              "      <th>0</th>\n",
              "      <td>0</td>\n",
              "      <td>[[69.316925, 73.03865, 79.13719, 84.17186, 85....</td>\n",
              "    </tr>\n",
              "    <tr>\n",
              "      <th>1</th>\n",
              "      <td>0</td>\n",
              "      <td>[[151.09435, 150.91393, 150.65791, 148.96367, ...</td>\n",
              "    </tr>\n",
              "    <tr>\n",
              "      <th>2</th>\n",
              "      <td>2</td>\n",
              "      <td>[[23.061905, 25.50914, 29.47847, 33.99843, 36....</td>\n",
              "    </tr>\n",
              "    <tr>\n",
              "      <th>3</th>\n",
              "      <td>2</td>\n",
              "      <td>[[20.083221, 19.079437, 17.398712, 17.158691, ...</td>\n",
              "    </tr>\n",
              "    <tr>\n",
              "      <th>4</th>\n",
              "      <td>3</td>\n",
              "      <td>[[76.26172, 76.54747, 77.001785, 77.7672, 78.4...</td>\n",
              "    </tr>\n",
              "  </tbody>\n",
              "</table>\n",
              "</div>\n",
              "      <button class=\"colab-df-convert\" onclick=\"convertToInteractive('df-8fa07766-6cd1-4a8a-98b5-e4153836d20f')\"\n",
              "              title=\"Convert this dataframe to an interactive table.\"\n",
              "              style=\"display:none;\">\n",
              "\n",
              "  <svg xmlns=\"http://www.w3.org/2000/svg\" height=\"24px\"viewBox=\"0 0 24 24\"\n",
              "       width=\"24px\">\n",
              "    <path d=\"M0 0h24v24H0V0z\" fill=\"none\"/>\n",
              "    <path d=\"M18.56 5.44l.94 2.06.94-2.06 2.06-.94-2.06-.94-.94-2.06-.94 2.06-2.06.94zm-11 1L8.5 8.5l.94-2.06 2.06-.94-2.06-.94L8.5 2.5l-.94 2.06-2.06.94zm10 10l.94 2.06.94-2.06 2.06-.94-2.06-.94-.94-2.06-.94 2.06-2.06.94z\"/><path d=\"M17.41 7.96l-1.37-1.37c-.4-.4-.92-.59-1.43-.59-.52 0-1.04.2-1.43.59L10.3 9.45l-7.72 7.72c-.78.78-.78 2.05 0 2.83L4 21.41c.39.39.9.59 1.41.59.51 0 1.02-.2 1.41-.59l7.78-7.78 2.81-2.81c.8-.78.8-2.07 0-2.86zM5.41 20L4 18.59l7.72-7.72 1.47 1.35L5.41 20z\"/>\n",
              "  </svg>\n",
              "      </button>\n",
              "\n",
              "\n",
              "\n",
              "    <div id=\"df-1912360a-bd8e-4474-8519-96792c3544e4\">\n",
              "      <button class=\"colab-df-quickchart\" onclick=\"quickchart('df-1912360a-bd8e-4474-8519-96792c3544e4')\"\n",
              "              title=\"Suggest charts.\"\n",
              "              style=\"display:none;\">\n",
              "\n",
              "<svg xmlns=\"http://www.w3.org/2000/svg\" height=\"24px\"viewBox=\"0 0 24 24\"\n",
              "     width=\"24px\">\n",
              "    <g>\n",
              "        <path d=\"M19 3H5c-1.1 0-2 .9-2 2v14c0 1.1.9 2 2 2h14c1.1 0 2-.9 2-2V5c0-1.1-.9-2-2-2zM9 17H7v-7h2v7zm4 0h-2V7h2v10zm4 0h-2v-4h2v4z\"/>\n",
              "    </g>\n",
              "</svg>\n",
              "      </button>\n",
              "    </div>\n",
              "\n",
              "<style>\n",
              "  .colab-df-quickchart {\n",
              "    background-color: #E8F0FE;\n",
              "    border: none;\n",
              "    border-radius: 50%;\n",
              "    cursor: pointer;\n",
              "    display: none;\n",
              "    fill: #1967D2;\n",
              "    height: 32px;\n",
              "    padding: 0 0 0 0;\n",
              "    width: 32px;\n",
              "  }\n",
              "\n",
              "  .colab-df-quickchart:hover {\n",
              "    background-color: #E2EBFA;\n",
              "    box-shadow: 0px 1px 2px rgba(60, 64, 67, 0.3), 0px 1px 3px 1px rgba(60, 64, 67, 0.15);\n",
              "    fill: #174EA6;\n",
              "  }\n",
              "\n",
              "  [theme=dark] .colab-df-quickchart {\n",
              "    background-color: #3B4455;\n",
              "    fill: #D2E3FC;\n",
              "  }\n",
              "\n",
              "  [theme=dark] .colab-df-quickchart:hover {\n",
              "    background-color: #434B5C;\n",
              "    box-shadow: 0px 1px 3px 1px rgba(0, 0, 0, 0.15);\n",
              "    filter: drop-shadow(0px 1px 2px rgba(0, 0, 0, 0.3));\n",
              "    fill: #FFFFFF;\n",
              "  }\n",
              "</style>\n",
              "\n",
              "    <script>\n",
              "      async function quickchart(key) {\n",
              "        const containerElement = document.querySelector('#' + key);\n",
              "        const charts = await google.colab.kernel.invokeFunction(\n",
              "            'suggestCharts', [key], {});\n",
              "      }\n",
              "    </script>\n",
              "\n",
              "      <script>\n",
              "\n",
              "function displayQuickchartButton(domScope) {\n",
              "  let quickchartButtonEl =\n",
              "    domScope.querySelector('#df-1912360a-bd8e-4474-8519-96792c3544e4 button.colab-df-quickchart');\n",
              "  quickchartButtonEl.style.display =\n",
              "    google.colab.kernel.accessAllowed ? 'block' : 'none';\n",
              "}\n",
              "\n",
              "        displayQuickchartButton(document);\n",
              "      </script>\n",
              "      <style>\n",
              "    .colab-df-container {\n",
              "      display:flex;\n",
              "      flex-wrap:wrap;\n",
              "      gap: 12px;\n",
              "    }\n",
              "\n",
              "    .colab-df-convert {\n",
              "      background-color: #E8F0FE;\n",
              "      border: none;\n",
              "      border-radius: 50%;\n",
              "      cursor: pointer;\n",
              "      display: none;\n",
              "      fill: #1967D2;\n",
              "      height: 32px;\n",
              "      padding: 0 0 0 0;\n",
              "      width: 32px;\n",
              "    }\n",
              "\n",
              "    .colab-df-convert:hover {\n",
              "      background-color: #E2EBFA;\n",
              "      box-shadow: 0px 1px 2px rgba(60, 64, 67, 0.3), 0px 1px 3px 1px rgba(60, 64, 67, 0.15);\n",
              "      fill: #174EA6;\n",
              "    }\n",
              "\n",
              "    [theme=dark] .colab-df-convert {\n",
              "      background-color: #3B4455;\n",
              "      fill: #D2E3FC;\n",
              "    }\n",
              "\n",
              "    [theme=dark] .colab-df-convert:hover {\n",
              "      background-color: #434B5C;\n",
              "      box-shadow: 0px 1px 3px 1px rgba(0, 0, 0, 0.15);\n",
              "      filter: drop-shadow(0px 1px 2px rgba(0, 0, 0, 0.3));\n",
              "      fill: #FFFFFF;\n",
              "    }\n",
              "  </style>\n",
              "\n",
              "      <script>\n",
              "        const buttonEl =\n",
              "          document.querySelector('#df-8fa07766-6cd1-4a8a-98b5-e4153836d20f button.colab-df-convert');\n",
              "        buttonEl.style.display =\n",
              "          google.colab.kernel.accessAllowed ? 'block' : 'none';\n",
              "\n",
              "        async function convertToInteractive(key) {\n",
              "          const element = document.querySelector('#df-8fa07766-6cd1-4a8a-98b5-e4153836d20f');\n",
              "          const dataTable =\n",
              "            await google.colab.kernel.invokeFunction('convertToInteractive',\n",
              "                                                     [key], {});\n",
              "          if (!dataTable) return;\n",
              "\n",
              "          const docLinkHtml = 'Like what you see? Visit the ' +\n",
              "            '<a target=\"_blank\" href=https://colab.research.google.com/notebooks/data_table.ipynb>data table notebook</a>'\n",
              "            + ' to learn more about interactive tables.';\n",
              "          element.innerHTML = '';\n",
              "          dataTable['output_type'] = 'display_data';\n",
              "          await google.colab.output.renderOutput(dataTable, element);\n",
              "          const docLink = document.createElement('div');\n",
              "          docLink.innerHTML = docLinkHtml;\n",
              "          element.appendChild(docLink);\n",
              "        }\n",
              "      </script>\n",
              "    </div>\n",
              "  </div>\n"
            ],
            "text/plain": [
              "   emotion                                             pixels\n",
              "0        0  [[69.316925, 73.03865, 79.13719, 84.17186, 85....\n",
              "1        0  [[151.09435, 150.91393, 150.65791, 148.96367, ...\n",
              "2        2  [[23.061905, 25.50914, 29.47847, 33.99843, 36....\n",
              "3        2  [[20.083221, 19.079437, 17.398712, 17.158691, ...\n",
              "4        3  [[76.26172, 76.54747, 77.001785, 77.7672, 78.4..."
            ]
          },
          "execution_count": 24,
          "metadata": {},
          "output_type": "execute_result"
        }
      ],
      "source": [
        "facialexpression_df.head()"
      ]
    },
    {
      "cell_type": "code",
      "execution_count": null,
      "metadata": {
        "colab": {
          "base_uri": "https://localhost:8080/"
        },
        "id": "AFL1VwAvRGJY",
        "outputId": "ce21f713-9e0a-4c67-8949-1e97ed098262"
      },
      "outputs": [
        {
          "data": {
            "text/plain": [
              "(24568, 2)"
            ]
          },
          "execution_count": 25,
          "metadata": {},
          "output_type": "execute_result"
        }
      ],
      "source": [
        "# check the shape of data_frame\n",
        "facialexpression_df.shape"
      ]
    },
    {
      "cell_type": "code",
      "execution_count": null,
      "metadata": {
        "colab": {
          "base_uri": "https://localhost:8080/"
        },
        "id": "rBKJmLo-RIyB",
        "outputId": "da2f8576-6dc1-4328-bb81-d418c2869f2c"
      },
      "outputs": [
        {
          "data": {
            "text/plain": [
              "emotion    0\n",
              " pixels    0\n",
              "dtype: int64"
            ]
          },
          "execution_count": 26,
          "metadata": {},
          "output_type": "execute_result"
        }
      ],
      "source": [
        "# check for the presence of null values in the data frame\n",
        "facialexpression_df.isnull().sum()"
      ]
    },
    {
      "cell_type": "code",
      "execution_count": null,
      "metadata": {
        "id": "ay6QI3_kRLYN"
      },
      "outputs": [],
      "source": [
        "label_to_text = {0:'anger', 1:'disgust', 2:'sad', 3:'happiness', 4: 'surprise'}"
      ]
    },
    {
      "cell_type": "markdown",
      "metadata": {
        "id": "Kzz5FzSuRTtD"
      },
      "source": [
        "Visualize Images and Plot Labels"
      ]
    },
    {
      "cell_type": "code",
      "execution_count": null,
      "metadata": {
        "colab": {
          "base_uri": "https://localhost:8080/",
          "height": 1000
        },
        "id": "OWS-DlMyRPn6",
        "outputId": "1e35ecda-2016-4033-89f3-754dd628e946"
      },
      "outputs": [
        {
          "data": {
            "image/png": "[encoded data removed]",
            "text/plain": [
              "<Figure size 640x480 with 1 Axes>"
            ]
          },
          "metadata": {},
          "output_type": "display_data"
        },
        {
          "data": {
            "image/png": "[encoded data removed]",
            "text/plain": [
              "<Figure size 640x480 with 1 Axes>"
            ]
          },
          "metadata": {},
          "output_type": "display_data"
        },
        {
          "data": {
            "image/png": "[encoded data removed]",
            "text/plain": [
              "<Figure size 640x480 with 1 Axes>"
            ]
          },
          "metadata": {},
          "output_type": "display_data"
        },
        {
          "data": {
            "image/png": "[encoded data removed]",
            "text/plain": [
              "<Figure size 640x480 with 1 Axes>"
            ]
          },
          "metadata": {},
          "output_type": "display_data"
        },
        {
          "data": {
            "image/png": "[encoded data removed]",
            "text/plain": [
              "<Figure size 640x480 with 1 Axes>"
            ]
          },
          "metadata": {},
          "output_type": "display_data"
        }
      ],
      "source": [
        "emotions = [0, 1, 2, 3, 4]\n",
        "\n",
        "for i in emotions:\n",
        "  data = facialexpression_df[facialexpression_df['emotion'] == i][:1]\n",
        "  img = data[' pixels'].item()\n",
        "  img = img.reshape(96, 96)\n",
        "  plt.figure()\n",
        "  plt.title(label_to_text[i])\n",
        "  plt.imshow(img, cmap = 'gray')"
      ]
    },
    {
      "cell_type": "code",
      "execution_count": null,
      "metadata": {
        "colab": {
          "base_uri": "https://localhost:8080/",
          "height": 847
        },
        "id": "spo9CEWbRYlb",
        "outputId": "1b42b133-55ae-4d07-aa50-464dd7d71fdc"
      },
      "outputs": [
        {
          "data": {
            "text/plain": [
              "<Axes: ylabel='emotion'>"
            ]
          },
          "execution_count": 29,
          "metadata": {},
          "output_type": "execute_result"
        },
        {
          "data": {
            "image/png": "[encoded data removed]",
            "text/plain": [
              "<Figure size 1000x1000 with 1 Axes>"
            ]
          },
          "metadata": {},
          "output_type": "display_data"
        }
      ],
      "source": [
        "#Plotting facial expression counts\n",
        "plt.figure(figsize = (10,10))\n",
        "sns.barplot(x = facialexpression_df.emotion.value_counts().index, y = facialexpression_df.emotion.value_counts())"
      ]
    },
    {
      "cell_type": "code",
      "execution_count": null,
      "metadata": {
        "id": "0niu-ZQ9SUAC"
      },
      "outputs": [],
      "source": [
        "# split the dataframe in to features and labels\n",
        "from keras.utils import to_categorical\n",
        "\n",
        "X = facialexpression_df[' pixels']\n",
        "y = to_categorical(facialexpression_df['emotion'])\n"
      ]
    },
    {
      "cell_type": "code",
      "execution_count": null,
      "metadata": {
        "colab": {
          "base_uri": "https://localhost:8080/"
        },
        "id": "CvOMzQWRSUrH",
        "outputId": "675ed36d-e5e2-4954-ed32-e7844116967e"
      },
      "outputs": [
        {
          "data": {
            "text/plain": [
              "array([[ 69.316925,  73.03865 ,  79.13719 , ...,  40.73619 ,  40.6584  ,\n",
              "         40.5394  ],\n",
              "       [ 68.66325 ,  70.95224 ,  74.71768 , ...,  43.274765,  42.037186,\n",
              "         41.223618],\n",
              "       [ 67.768814,  67.71646 ,  67.67172 , ...,  47.39473 ,  44.26329 ,\n",
              "         42.31465 ],\n",
              "       ...,\n",
              "       [ 74.89021 ,  76.79553 ,  79.90259 , ...,  71.463425,  59.32875 ,\n",
              "         51.74736 ],\n",
              "       [ 76.68126 ,  75.808105,  74.25452 , ...,  93.943375,  79.77934 ,\n",
              "         71.13246 ],\n",
              "       [ 77.63858 ,  75.15074 ,  70.8846  , ..., 107.66351 ,  92.23212 ,\n",
              "         82.91585 ]], dtype=float32)"
            ]
          },
          "execution_count": 31,
          "metadata": {},
          "output_type": "execute_result"
        }
      ],
      "source": [
        "X[0]"
      ]
    },
    {
      "cell_type": "code",
      "execution_count": null,
      "metadata": {
        "colab": {
          "base_uri": "https://localhost:8080/"
        },
        "id": "tkNMhZbOSXvO",
        "outputId": "5b31aad7-fd2b-4f4c-f825-8927e7fdbc95"
      },
      "outputs": [
        {
          "data": {
            "text/plain": [
              "array([[1., 0., 0., 0., 0.],\n",
              "       [1., 0., 0., 0., 0.],\n",
              "       [0., 0., 1., 0., 0.],\n",
              "       ...,\n",
              "       [0., 0., 0., 1., 0.],\n",
              "       [1., 0., 0., 0., 0.],\n",
              "       [0., 0., 0., 1., 0.]], dtype=float32)"
            ]
          },
          "execution_count": 32,
          "metadata": {},
          "output_type": "execute_result"
        }
      ],
      "source": [
        "y"
      ]
    },
    {
      "cell_type": "code",
      "execution_count": null,
      "metadata": {
        "colab": {
          "base_uri": "https://localhost:8080/"
        },
        "id": "FbsK4EtySa0u",
        "outputId": "207acbe9-638a-464d-e418-99e9a01cf432"
      },
      "outputs": [
        {
          "name": "stdout",
          "output_type": "stream",
          "text": [
            "(24568, 96, 96, 1) (24568, 5)\n"
          ]
        }
      ],
      "source": [
        "X = np.stack(X, axis = 0)\n",
        "X = X.reshape(24568, 96, 96, 1)\n",
        "\n",
        "print(X.shape, y.shape)"
      ]
    },
    {
      "cell_type": "code",
      "execution_count": null,
      "metadata": {
        "id": "M4SIHsCiSdIR"
      },
      "outputs": [],
      "source": [
        "# split the dataframe in to train, test and validation data frames\n",
        "\n",
        "from sklearn.model_selection import train_test_split\n",
        "\n",
        "X_train, X_Test, y_train, y_Test = train_test_split(X, y, test_size = 0.1, shuffle = True)\n",
        "X_val, X_Test, y_val, y_Test = train_test_split(X_Test, y_Test, test_size = 0.5, shuffle = True)\n"
      ]
    },
    {
      "cell_type": "code",
      "execution_count": null,
      "metadata": {
        "colab": {
          "base_uri": "https://localhost:8080/"
        },
        "id": "hrMnanx8SkG_",
        "outputId": "b59372d7-8fdd-4950-d133-f739cbfc9341"
      },
      "outputs": [
        {
          "name": "stdout",
          "output_type": "stream",
          "text": [
            "(1228, 96, 96, 1) (1228, 5)\n"
          ]
        }
      ],
      "source": [
        "print(X_val.shape, y_val.shape)"
      ]
    },
    {
      "cell_type": "code",
      "execution_count": null,
      "metadata": {
        "colab": {
          "base_uri": "https://localhost:8080/"
        },
        "id": "SdDmTB5zSmpJ",
        "outputId": "ec473daa-a504-49c6-f369-e3efc72cc31f"
      },
      "outputs": [
        {
          "name": "stdout",
          "output_type": "stream",
          "text": [
            "(1229, 96, 96, 1) (1229, 5)\n"
          ]
        }
      ],
      "source": [
        "print(X_Test.shape, y_Test.shape)"
      ]
    },
    {
      "cell_type": "code",
      "execution_count": null,
      "metadata": {
        "colab": {
          "base_uri": "https://localhost:8080/"
        },
        "id": "927Go5fXSsXc",
        "outputId": "e62a2586-da25-42cd-80d1-fe2f30775167"
      },
      "outputs": [
        {
          "name": "stdout",
          "output_type": "stream",
          "text": [
            "(22111, 96, 96, 1) (22111, 5)\n"
          ]
        }
      ],
      "source": [
        "print(X_train.shape, y_train.shape)"
      ]
    },
    {
      "cell_type": "code",
      "execution_count": null,
      "metadata": {
        "id": "jE_n-BkgSsLv"
      },
      "outputs": [],
      "source": [
        "# image pre-processing\n",
        "\n",
        "X_train = X_train/255\n",
        "X_val   = X_val /255\n",
        "X_Test  = X_Test/255"
      ]
    },
    {
      "cell_type": "code",
      "execution_count": null,
      "metadata": {
        "colab": {
          "base_uri": "https://localhost:8080/"
        },
        "id": "QU2XM1YRSxdw",
        "outputId": "083b6abc-08d2-4d27-b73c-d6bb4e58f036"
      },
      "outputs": [
        {
          "data": {
            "text/plain": [
              "array([[[[0.36639094],\n",
              "         [0.33528012],\n",
              "         [0.285007  ],\n",
              "         ...,\n",
              "         [0.16064225],\n",
              "         [0.15736957],\n",
              "         [0.15483835]],\n",
              "\n",
              "        [[0.34883788],\n",
              "         [0.3162073 ],\n",
              "         [0.2631693 ],\n",
              "         ...,\n",
              "         [0.16114622],\n",
              "         [0.15717869],\n",
              "         [0.15423991]],\n",
              "\n",
              "        [[0.3210847 ],\n",
              "         [0.2857054 ],\n",
              "         [0.22771923],\n",
              "         ...,\n",
              "         [0.16114525],\n",
              "         [0.15616862],\n",
              "         [0.15263194]],\n",
              "\n",
              "        ...,\n",
              "\n",
              "        [[0.14724497],\n",
              "         [0.14880556],\n",
              "         [0.15141872],\n",
              "         ...,\n",
              "         [0.78491473],\n",
              "         [0.78264517],\n",
              "         [0.78128064]],\n",
              "\n",
              "        [[0.15101181],\n",
              "         [0.15239576],\n",
              "         [0.15468793],\n",
              "         ...,\n",
              "         [0.787236  ],\n",
              "         [0.78466487],\n",
              "         [0.7831495 ]],\n",
              "\n",
              "        [[0.15335478],\n",
              "         [0.15464233],\n",
              "         [0.15675785],\n",
              "         ...,\n",
              "         [0.7886749 ],\n",
              "         [0.7859206 ],\n",
              "         [0.78431374]]],\n",
              "\n",
              "\n",
              "       [[[0.88999695],\n",
              "         [0.8912492 ],\n",
              "         [0.8942132 ],\n",
              "         ...,\n",
              "         [0.27884957],\n",
              "         [0.31053436],\n",
              "         [0.33031893]],\n",
              "\n",
              "        [[0.88214916],\n",
              "         [0.8829802 ],\n",
              "         [0.8851989 ],\n",
              "         ...,\n",
              "         [0.2662131 ],\n",
              "         [0.3042957 ],\n",
              "         [0.32792178]],\n",
              "\n",
              "        [[0.87013   ],\n",
              "         [0.87019956],\n",
              "         [0.87108916],\n",
              "         ...,\n",
              "         [0.24586421],\n",
              "         [0.29457027],\n",
              "         [0.32457802]],\n",
              "\n",
              "        ...,\n",
              "\n",
              "        [[0.638052  ],\n",
              "         [0.6411409 ],\n",
              "         [0.64670646],\n",
              "         ...,\n",
              "         [0.55613613],\n",
              "         [0.613854  ],\n",
              "         [0.6493056 ]],\n",
              "\n",
              "        [[0.635649  ],\n",
              "         [0.6385    ],\n",
              "         [0.6433707 ],\n",
              "         ...,\n",
              "         [0.55010694],\n",
              "         [0.59113824],\n",
              "         [0.6161875 ]],\n",
              "\n",
              "        [[0.6344233 ],\n",
              "         [0.6371427 ],\n",
              "         [0.64161396],\n",
              "         ...,\n",
              "         [0.5460045 ],\n",
              "         [0.5770051 ],\n",
              "         [0.5957941 ]]],\n",
              "\n",
              "\n",
              "       [[[0.6919814 ],\n",
              "         [0.68640465],\n",
              "         [0.6772349 ],\n",
              "         ...,\n",
              "         [0.67177844],\n",
              "         [0.6724862 ],\n",
              "         [0.67306983]],\n",
              "\n",
              "        [[0.6914606 ],\n",
              "         [0.68692774],\n",
              "         [0.6794203 ],\n",
              "         ...,\n",
              "         [0.66579634],\n",
              "         [0.66582876],\n",
              "         [0.6659859 ]],\n",
              "\n",
              "        [[0.69056445],\n",
              "         [0.6877101 ],\n",
              "         [0.68287027],\n",
              "         ...,\n",
              "         [0.6562268 ],\n",
              "         [0.654844  ],\n",
              "         [0.65411574]],\n",
              "\n",
              "        ...,\n",
              "\n",
              "        [[0.92207444],\n",
              "         [0.88680714],\n",
              "         [0.82885116],\n",
              "         ...,\n",
              "         [0.7349474 ],\n",
              "         [0.7483685 ],\n",
              "         [0.7565834 ]],\n",
              "\n",
              "        [[0.9242939 ],\n",
              "         [0.901145  ],\n",
              "         [0.8641049 ],\n",
              "         ...,\n",
              "         [0.7486313 ],\n",
              "         [0.7597607 ],\n",
              "         [0.7665783 ]],\n",
              "\n",
              "        [[0.9263101 ],\n",
              "         [0.9101854 ],\n",
              "         [0.8852638 ],\n",
              "         ...,\n",
              "         [0.7569534 ],\n",
              "         [0.7667017 ],\n",
              "         [0.7726762 ]]],\n",
              "\n",
              "\n",
              "       ...,\n",
              "\n",
              "\n",
              "       [[[0.07342452],\n",
              "         [0.07684392],\n",
              "         [0.08225559],\n",
              "         ...,\n",
              "         [0.22736326],\n",
              "         [0.23982711],\n",
              "         [0.24764326]],\n",
              "\n",
              "        [[0.08329228],\n",
              "         [0.08666226],\n",
              "         [0.09206304],\n",
              "         ...,\n",
              "         [0.22122917],\n",
              "         [0.23676069],\n",
              "         [0.246397  ]],\n",
              "\n",
              "        [[0.09884332],\n",
              "         [0.10218626],\n",
              "         [0.107655  ],\n",
              "         ...,\n",
              "         [0.21134853],\n",
              "         [0.23263484],\n",
              "         [0.24569426]],\n",
              "\n",
              "        ...,\n",
              "\n",
              "        [[0.6409209 ],\n",
              "         [0.6393927 ],\n",
              "         [0.63772035],\n",
              "         ...,\n",
              "         [0.7147107 ],\n",
              "         [0.7478393 ],\n",
              "         [0.76793194]],\n",
              "\n",
              "        [[0.6501912 ],\n",
              "         [0.6454883 ],\n",
              "         [0.6384396 ],\n",
              "         ...,\n",
              "         [0.7298586 ],\n",
              "         [0.7597887 ],\n",
              "         [0.77789253]],\n",
              "\n",
              "        [[0.6565317 ],\n",
              "         [0.649904  ],\n",
              "         [0.63959986],\n",
              "         ...,\n",
              "         [0.7394736 ],\n",
              "         [0.7673341 ],\n",
              "         [0.78415453]]],\n",
              "\n",
              "\n",
              "       [[[0.45264807],\n",
              "         [0.4250499 ],\n",
              "         [0.37926373],\n",
              "         ...,\n",
              "         [0.798544  ],\n",
              "         [0.7971577 ],\n",
              "         [0.796162  ]],\n",
              "\n",
              "        [[0.43525988],\n",
              "         [0.41396964],\n",
              "         [0.3785338 ],\n",
              "         ...,\n",
              "         [0.782564  ],\n",
              "         [0.78274626],\n",
              "         [0.7827153 ]],\n",
              "\n",
              "        [[0.40667677],\n",
              "         [0.39589843],\n",
              "         [0.37770948],\n",
              "         ...,\n",
              "         [0.75662845],\n",
              "         [0.7592586 ],\n",
              "         [0.76073164]],\n",
              "\n",
              "        ...,\n",
              "\n",
              "        [[0.50344974],\n",
              "         [0.49536672],\n",
              "         [0.48231882],\n",
              "         ...,\n",
              "         [0.13492157],\n",
              "         [0.14623795],\n",
              "         [0.15221749]],\n",
              "\n",
              "        [[0.507837  ],\n",
              "         [0.49786007],\n",
              "         [0.48174605],\n",
              "         ...,\n",
              "         [0.14236091],\n",
              "         [0.14691845],\n",
              "         [0.14848094]],\n",
              "\n",
              "        [[0.51056284],\n",
              "         [0.49942628],\n",
              "         [0.48143455],\n",
              "         ...,\n",
              "         [0.14671518],\n",
              "         [0.14725958],\n",
              "         [0.14618902]]],\n",
              "\n",
              "\n",
              "       [[[0.15815082],\n",
              "         [0.16187803],\n",
              "         [0.16732548],\n",
              "         ...,\n",
              "         [0.40830922],\n",
              "         [0.4012862 ],\n",
              "         [0.39706117]],\n",
              "\n",
              "        [[0.1596989 ],\n",
              "         [0.16596949],\n",
              "         [0.17563662],\n",
              "         ...,\n",
              "         [0.40999708],\n",
              "         [0.40379065],\n",
              "         [0.40003398]],\n",
              "\n",
              "        [[0.16216676],\n",
              "         [0.17257625],\n",
              "         [0.18911019],\n",
              "         ...,\n",
              "         [0.4120354 ],\n",
              "         [0.40711382],\n",
              "         [0.40409294]],\n",
              "\n",
              "        ...,\n",
              "\n",
              "        [[0.12600152],\n",
              "         [0.08912946],\n",
              "         [0.02512763],\n",
              "         ...,\n",
              "         [0.5982609 ],\n",
              "         [0.5899218 ],\n",
              "         [0.58488876]],\n",
              "\n",
              "        [[0.12534341],\n",
              "         [0.09153293],\n",
              "         [0.03261665],\n",
              "         ...,\n",
              "         [0.6212412 ],\n",
              "         [0.6153598 ],\n",
              "         [0.61183923]],\n",
              "\n",
              "        [[0.12491743],\n",
              "         [0.09295905],\n",
              "         [0.03712051],\n",
              "         ...,\n",
              "         [0.6356171 ],\n",
              "         [0.63119966],\n",
              "         [0.6285799 ]]]], dtype=float32)"
            ]
          },
          "execution_count": 39,
          "metadata": {},
          "output_type": "execute_result"
        }
      ],
      "source": [
        "X_train"
      ]
    },
    {
      "cell_type": "code",
      "execution_count": null,
      "metadata": {
        "id": "SIzkdpueS25P"
      },
      "outputs": [],
      "source": [
        "train_datagen = ImageDataGenerator(\n",
        "rotation_range = 15,\n",
        "    width_shift_range = 0.1,\n",
        "    height_shift_range = 0.1,\n",
        "    shear_range = 0.1,\n",
        "    zoom_range = 0.1,\n",
        "    horizontal_flip = True,\n",
        "    fill_mode = \"nearest\")"
      ]
    },
    {
      "cell_type": "markdown",
      "metadata": {
        "id": "kgECVLvrSA0t"
      },
      "source": [
        "Build and Train Deep Learning Model for Facial emotion prediction"
      ]
    },
    {
      "cell_type": "code",
      "execution_count": null,
      "metadata": {
        "id": "Htp_RAPUUQiW"
      },
      "outputs": [],
      "source": [
        "def res_block(X, filter, stage):\n",
        "\n",
        "  # Convolutional_block\n",
        "  X_copy = X\n",
        "\n",
        "  f1 , f2, f3 = filter\n",
        "\n",
        "  # Main Path\n",
        "  X = Conv2D(f1, (1,1),strides = (1,1), name ='res_'+str(stage)+'_conv_a', kernel_initializer= glorot_uniform(seed = 0))(X)\n",
        "  X = MaxPool2D((2,2))(X)\n",
        "  X = BatchNormalization(axis =3, name = 'bn_'+str(stage)+'_conv_a')(X)\n",
        "  X = Activation('relu')(X)\n",
        "\n",
        "  X = Conv2D(f2, kernel_size = (3,3), strides =(1,1), padding = 'same', name ='res_'+str(stage)+'_conv_b', kernel_initializer= glorot_uniform(seed = 0))(X)\n",
        "  X = BatchNormalization(axis =3, name = 'bn_'+str(stage)+'_conv_b')(X)\n",
        "  X = Activation('relu')(X)\n",
        "\n",
        "  X = Conv2D(f3, kernel_size = (1,1), strides =(1,1),name ='res_'+str(stage)+'_conv_c', kernel_initializer= glorot_uniform(seed = 0))(X)\n",
        "  X = BatchNormalization(axis =3, name = 'bn_'+str(stage)+'_conv_c')(X)\n",
        "\n",
        "\n",
        "  # Short path\n",
        "  X_copy = Conv2D(f3, kernel_size = (1,1), strides =(1,1),name ='res_'+str(stage)+'_conv_copy', kernel_initializer= glorot_uniform(seed = 0))(X_copy)\n",
        "  X_copy = MaxPool2D((2,2))(X_copy)\n",
        "  X_copy = BatchNormalization(axis =3, name = 'bn_'+str(stage)+'_conv_copy')(X_copy)\n",
        "\n",
        "  # ADD\n",
        "  X = Add()([X,X_copy])\n",
        "  X = Activation('relu')(X)\n",
        "\n",
        "  # Identity Block 1\n",
        "  X_copy = X\n",
        "\n",
        "\n",
        "  # Main Path\n",
        "  X = Conv2D(f1, (1,1),strides = (1,1), name ='res_'+str(stage)+'_identity_1_a', kernel_initializer= glorot_uniform(seed = 0))(X)\n",
        "  X = BatchNormalization(axis =3, name = 'bn_'+str(stage)+'_identity_1_a')(X)\n",
        "  X = Activation('relu')(X)\n",
        "\n",
        "  X = Conv2D(f2, kernel_size = (3,3), strides =(1,1), padding = 'same', name ='res_'+str(stage)+'_identity_1_b', kernel_initializer= glorot_uniform(seed = 0))(X)\n",
        "  X = BatchNormalization(axis =3, name = 'bn_'+str(stage)+'_identity_1_b')(X)\n",
        "  X = Activation('relu')(X)\n",
        "\n",
        "  X = Conv2D(f3, kernel_size = (1,1), strides =(1,1),name ='res_'+str(stage)+'_identity_1_c', kernel_initializer= glorot_uniform(seed = 0))(X)\n",
        "  X = BatchNormalization(axis =3, name = 'bn_'+str(stage)+'_identity_1_c')(X)\n",
        "\n",
        "  # ADD\n",
        "  X = Add()([X,X_copy])\n",
        "  X = Activation('relu')(X)\n",
        "\n",
        "  # Identity Block 2\n",
        "  X_copy = X\n",
        "\n",
        "\n",
        "  # Main Path\n",
        "  X = Conv2D(f1, (1,1),strides = (1,1), name ='res_'+str(stage)+'_identity_2_a', kernel_initializer= glorot_uniform(seed = 0))(X)\n",
        "  X = BatchNormalization(axis =3, name = 'bn_'+str(stage)+'_identity_2_a')(X)\n",
        "  X = Activation('relu')(X)\n",
        "\n",
        "  X = Conv2D(f2, kernel_size = (3,3), strides =(1,1), padding = 'same', name ='res_'+str(stage)+'_identity_2_b', kernel_initializer= glorot_uniform(seed = 0))(X)\n",
        "  X = BatchNormalization(axis =3, name = 'bn_'+str(stage)+'_identity_2_b')(X)\n",
        "  X = Activation('relu')(X)\n",
        "\n",
        "  X = Conv2D(f3, kernel_size = (1,1), strides =(1,1),name ='res_'+str(stage)+'_identity_2_c', kernel_initializer= glorot_uniform(seed = 0))(X)\n",
        "  X = BatchNormalization(axis =3, name = 'bn_'+str(stage)+'_identity_2_c')(X)\n",
        "\n",
        "  # ADD\n",
        "  X = Add()([X,X_copy])\n",
        "  X = Activation('relu')(X)\n",
        "\n",
        "  return X"
      ]
    },
    {
      "cell_type": "code",
      "execution_count": null,
      "metadata": {
        "colab": {
          "base_uri": "https://localhost:8080/"
        },
        "id": "vzzKwP5mTXdm",
        "outputId": "4481c8e5-8dd1-4113-b140-b4955e0a0537"
      },
      "outputs": [
        {
          "name": "stdout",
          "output_type": "stream",
          "text": [
            "Model: \"Resnet18\"\n",
            "__________________________________________________________________________________________________\n",
            "Layer (type)                    Output Shape         Param #     Connected to                     \n",
            "==================================================================================================\n",
            "Total params: 1,174,021\n",
            "Trainable params: 1,165,445\n",
            "Non-trainable params: 8,576\n",
            "__________________________________________________________________________________________________\n"
          ]
        }
      ],
      "source": [
        "input_shape = (96, 96, 1)\n",
        "\n",
        "# Input tensor shape\n",
        "X_input = Input(input_shape)\n",
        "\n",
        "# Zero-padding\n",
        "X = ZeroPadding2D((3, 3))(X_input)\n",
        "\n",
        "# 1 - stage\n",
        "X = Conv2D(64, (7, 7), strides= (2, 2), name = 'conv1', kernel_initializer= glorot_uniform(seed = 0))(X)\n",
        "X = BatchNormalization(axis =3, name = 'bn_conv1')(X)\n",
        "X = Activation('relu')(X)\n",
        "X = MaxPooling2D((3, 3), strides= (2, 2))(X)\n",
        "\n",
        "# 2 - stage\n",
        "X = res_block(X, filter= [64, 64, 256], stage= 2)\n",
        "\n",
        "# 3 - stage\n",
        "X = res_block(X, filter= [128, 128, 512], stage= 3)\n",
        "\n",
        "# 4 - stage\n",
        "# X = res_block(X, filter= [256, 256, 1024], stage= 4)\n",
        "\n",
        "# Average Pooling\n",
        "X = AveragePooling2D((4, 4), name = 'Averagea_Pooling')(X)\n",
        "\n",
        "# Final layer\n",
        "X = Flatten()(X)\n",
        "X = Dense(5, activation = 'softmax', name = 'Dense_final', kernel_initializer= glorot_uniform(seed=0))(X)\n",
        "\n",
        "model_2_emotion = Model( inputs= X_input, outputs = X, name = 'Resnet18')\n",
        "\n",
        "model_2_emotion.summary()"
      ]
    },
    {
      "cell_type": "code",
      "execution_count": null,
      "metadata": {
        "id": "lwtTdAD5UZvT"
      },
      "outputs": [],
      "source": [
        "# train the network\n",
        "model_2_emotion.compile(optimizer = \"Adam\", loss = \"categorical_crossentropy\", metrics = [\"accuracy\"])"
      ]
    },
    {
      "cell_type": "code",
      "execution_count": null,
      "metadata": {
        "id": "oREO9RZYUh6K"
      },
      "outputs": [],
      "source": [
        "# Recall that the first facial key points model was saved as follows: FacialKeyPoints_weights.hdf5 and FacialKeyPoints-model.json\n",
        "\n",
        "# using early stopping to exit training if validation loss is not decreasing even after certain epochs (patience)\n",
        "earlystopping = EarlyStopping(monitor = 'val_loss', mode = 'min', verbose = 1, patience = 20)\n",
        "\n",
        "# save the best model with lower validation loss\n",
        "checkpointer = ModelCheckpoint(filepath = \"FacialExpression_weights.hdf5\", verbose = 1, save_best_only=True)"
      ]
    },
    {
      "cell_type": "code",
      "source": [
        "history = model_2_emotion.fit(train_datagen.flow(X_train, y_train, batch_size=64),\n",
        "\tvalidation_data=(X_val, y_val), steps_per_epoch=len(X_train) // 64,\n",
        "\tepochs= 2, callbacks=[checkpointer, earlystopping])"
      ],
      "metadata": {
        "id": "ZfESyfrd2v0Y"
      },
      "execution_count": null,
      "outputs": []
    },
    {
      "cell_type": "code",
      "source": [
        "# saving the model architecture to json file for future use\n",
        "\n",
        "model_json = model_2_emotion.to_json()\n",
        "with open(\"FacialExpression-model.json\",\"w\") as json_file:\n",
        "  json_file.write(model_json)"
      ],
      "metadata": {
        "id": "7wF9RLoO2yMj"
      },
      "execution_count": null,
      "outputs": []
    },
    {
      "cell_type": "code",
      "execution_count": null,
      "metadata": {
        "id": "tp32zkRWUu6f"
      },
      "outputs": [],
      "source": [
        "with open('emotion.json', 'r') as json_file:\n",
        "    json_savedModel= json_file.read()\n",
        "\n",
        "# load the model architecture\n",
        "model_2_emotion = tf.keras.models.model_from_json(json_savedModel)\n",
        "model_2_emotion.load_weights('weights_emotions.hdf5')\n",
        "model_2_emotion.compile(optimizer = \"Adam\", loss = \"categorical_crossentropy\", metrics = [\"accuracy\"])"
      ]
    },
    {
      "cell_type": "code",
      "execution_count": null,
      "metadata": {
        "id": "myWMVsg-U1QN",
        "outputId": "4a29dc87-8c85-4f81-e257-de1905d795d2",
        "colab": {
          "base_uri": "https://localhost:8080/"
        }
      },
      "outputs": [
        {
          "output_type": "stream",
          "name": "stdout",
          "text": [
            "39/39 [==============================] - 10s 245ms/step - loss: 0.3468 - accuracy: 0.8779\n"
          ]
        }
      ],
      "source": [
        "score = model_2_emotion.evaluate(X_Test, y_Test)\n",
        "print('Test Accuracy: {}'.format(score[1]))"
      ]
    }
  ],
  "metadata": {
    "colab": {
      "provenance": []
    },
    "kernelspec": {
      "display_name": "Python 3",
      "name": "python3"
    },
    "language_info": {
      "name": "python"
    }
  },
  "nbformat": 4,
  "nbformat_minor": 0
}